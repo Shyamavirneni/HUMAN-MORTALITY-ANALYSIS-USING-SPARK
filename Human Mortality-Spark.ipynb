{
 "cells": [
  {
   "cell_type": "markdown",
   "metadata": {},
   "source": [
    "# <center> Analysis on Human Mortality Using Spark </center>"
   ]
  },
  {
   "cell_type": "markdown",
   "metadata": {},
   "source": [
    "### Importing packages and starting the spark session"
   ]
  },
  {
   "cell_type": "code",
   "execution_count": 1,
   "metadata": {},
   "outputs": [],
   "source": [
    "import pyspark\n",
    "from pyspark.sql import SparkSession\n",
    "spark = SparkSession.builder.appName('new').config('spark.driver.memory', '10g').getOrCreate()"
   ]
  },
  {
   "cell_type": "code",
   "execution_count": 2,
   "metadata": {},
   "outputs": [
    {
     "name": "stdout",
     "output_type": "stream",
     "text": [
      "3.5.0\n"
     ]
    }
   ],
   "source": [
    "print(pyspark.__version__)"
   ]
  },
  {
   "cell_type": "markdown",
   "metadata": {},
   "source": [
    "### Spark Info"
   ]
  },
  {
   "cell_type": "code",
   "execution_count": 3,
   "metadata": {},
   "outputs": [
    {
     "data": {
      "text/html": [
       "\n",
       "            <div>\n",
       "                <p><b>SparkSession - in-memory</b></p>\n",
       "                \n",
       "        <div>\n",
       "            <p><b>SparkContext</b></p>\n",
       "\n",
       "            <p><a href=\"http://Sai-ZenBook:4040\">Spark UI</a></p>\n",
       "\n",
       "            <dl>\n",
       "              <dt>Version</dt>\n",
       "                <dd><code>v3.5.0</code></dd>\n",
       "              <dt>Master</dt>\n",
       "                <dd><code>local[*]</code></dd>\n",
       "              <dt>AppName</dt>\n",
       "                <dd><code>new</code></dd>\n",
       "            </dl>\n",
       "        </div>\n",
       "        \n",
       "            </div>\n",
       "        "
      ],
      "text/plain": [
       "<pyspark.sql.session.SparkSession at 0x2a247b62080>"
      ]
     },
     "execution_count": 3,
     "metadata": {},
     "output_type": "execute_result"
    }
   ],
   "source": [
    "spark"
   ]
  },
  {
   "cell_type": "markdown",
   "metadata": {},
   "source": [
    "### Importing data into Spark"
   ]
  },
  {
   "cell_type": "code",
   "execution_count": 4,
   "metadata": {},
   "outputs": [],
   "source": [
    "df = spark.read.option('header', 'true').csv('Merged.csv', inferSchema = True)"
   ]
  },
  {
   "cell_type": "markdown",
   "metadata": {},
   "source": [
    "## Step 1: Understanding the data"
   ]
  },
  {
   "cell_type": "code",
   "execution_count": 5,
   "metadata": {},
   "outputs": [
    {
     "data": {
      "text/plain": [
       "6103609"
      ]
     },
     "execution_count": 5,
     "metadata": {},
     "output_type": "execute_result"
    }
   ],
   "source": [
    "df.count()"
   ]
  },
  {
   "cell_type": "code",
   "execution_count": 6,
   "metadata": {},
   "outputs": [
    {
     "data": {
      "text/plain": [
       "pyspark.sql.dataframe.DataFrame"
      ]
     },
     "execution_count": 6,
     "metadata": {},
     "output_type": "execute_result"
    }
   ],
   "source": [
    "type(df)"
   ]
  },
  {
   "cell_type": "code",
   "execution_count": 7,
   "metadata": {},
   "outputs": [
    {
     "name": "stdout",
     "output_type": "stream",
     "text": [
      "root\n",
      " |-- Country: integer (nullable = true)\n",
      " |-- Admin1: string (nullable = true)\n",
      " |-- SubDiv: string (nullable = true)\n",
      " |-- Year: integer (nullable = true)\n",
      " |-- List: string (nullable = true)\n",
      " |-- Cause: string (nullable = true)\n",
      " |-- Sex: integer (nullable = true)\n",
      " |-- Frmat: integer (nullable = true)\n",
      " |-- IM_Frmat: double (nullable = true)\n",
      " |-- Deaths1: integer (nullable = true)\n",
      " |-- Deaths2: double (nullable = true)\n",
      " |-- Deaths3: double (nullable = true)\n",
      " |-- Deaths4: string (nullable = true)\n",
      " |-- Deaths5: string (nullable = true)\n",
      " |-- Deaths6: string (nullable = true)\n",
      " |-- Deaths7: double (nullable = true)\n",
      " |-- Deaths8: string (nullable = true)\n",
      " |-- Deaths9: double (nullable = true)\n",
      " |-- Deaths10: string (nullable = true)\n",
      " |-- Deaths11: double (nullable = true)\n",
      " |-- Deaths12: string (nullable = true)\n",
      " |-- Deaths13: double (nullable = true)\n",
      " |-- Deaths14: string (nullable = true)\n",
      " |-- Deaths15: double (nullable = true)\n",
      " |-- Deaths16: string (nullable = true)\n",
      " |-- Deaths17: double (nullable = true)\n",
      " |-- Deaths18: string (nullable = true)\n",
      " |-- Deaths19: double (nullable = true)\n",
      " |-- Deaths20: string (nullable = true)\n",
      " |-- Deaths21: double (nullable = true)\n",
      " |-- Deaths22: string (nullable = true)\n",
      " |-- Deaths23: string (nullable = true)\n",
      " |-- Deaths24: string (nullable = true)\n",
      " |-- Deaths25: string (nullable = true)\n",
      " |-- Deaths26: double (nullable = true)\n",
      " |-- IM_Deaths1: double (nullable = true)\n",
      " |-- IM_Deaths2: string (nullable = true)\n",
      " |-- IM_Deaths3: string (nullable = true)\n",
      " |-- IM_Deaths4: string (nullable = true)\n",
      "\n"
     ]
    }
   ],
   "source": [
    "df.printSchema()"
   ]
  },
  {
   "cell_type": "code",
   "execution_count": 8,
   "metadata": {},
   "outputs": [
    {
     "data": {
      "text/plain": [
       "['Country',\n",
       " 'Admin1',\n",
       " 'SubDiv',\n",
       " 'Year',\n",
       " 'List',\n",
       " 'Cause',\n",
       " 'Sex',\n",
       " 'Frmat',\n",
       " 'IM_Frmat',\n",
       " 'Deaths1',\n",
       " 'Deaths2',\n",
       " 'Deaths3',\n",
       " 'Deaths4',\n",
       " 'Deaths5',\n",
       " 'Deaths6',\n",
       " 'Deaths7',\n",
       " 'Deaths8',\n",
       " 'Deaths9',\n",
       " 'Deaths10',\n",
       " 'Deaths11',\n",
       " 'Deaths12',\n",
       " 'Deaths13',\n",
       " 'Deaths14',\n",
       " 'Deaths15',\n",
       " 'Deaths16',\n",
       " 'Deaths17',\n",
       " 'Deaths18',\n",
       " 'Deaths19',\n",
       " 'Deaths20',\n",
       " 'Deaths21',\n",
       " 'Deaths22',\n",
       " 'Deaths23',\n",
       " 'Deaths24',\n",
       " 'Deaths25',\n",
       " 'Deaths26',\n",
       " 'IM_Deaths1',\n",
       " 'IM_Deaths2',\n",
       " 'IM_Deaths3',\n",
       " 'IM_Deaths4']"
      ]
     },
     "execution_count": 8,
     "metadata": {},
     "output_type": "execute_result"
    }
   ],
   "source": [
    "df.columns"
   ]
  },
  {
   "cell_type": "code",
   "execution_count": 9,
   "metadata": {},
   "outputs": [
    {
     "data": {
      "text/plain": [
       "[Row(Country=1125, Admin1=None, SubDiv=None, Year=1955, List='07A', Cause='A000', Sex=1, Frmat=1, IM_Frmat=8.0, Deaths1=107822, Deaths2=40543.0, Deaths3=18814.0, Deaths4='8192.0', Deaths5='2860.0', Deaths6='1440.0', Deaths7=2120.0, Deaths8='1219.0', Deaths9=1059.0, Deaths10='1133.0', Deaths11=1639.0, Deaths12='1066.0', Deaths13=1656.0, Deaths14='1654.0', Deaths15=1829.0, Deaths16='2619.0', Deaths17=1894.0, Deaths18='2941.0', Deaths19=2681.0, Deaths20='3383.0', Deaths21=2013.0, Deaths22='2727.0', Deaths23='4126.0', Deaths24=None, Deaths25=None, Deaths26=214.0, IM_Deaths1=40543.0, IM_Deaths2=None, IM_Deaths3=None, IM_Deaths4=None),\n",
       " Row(Country=1125, Admin1=None, SubDiv=None, Year=1955, List='07A', Cause='A000', Sex=2, Frmat=1, IM_Frmat=8.0, Deaths1=105750, Deaths2=39632.0, Deaths3=21606.0, Deaths4='9090.0', Deaths5='3052.0', Deaths6='1404.0', Deaths7=1679.0, Deaths8='899.0', Deaths9=889.0, Deaths10='826.0', Deaths11=1414.0, Deaths12='900.0', Deaths13=1241.0, Deaths14='1118.0', Deaths15=1076.0, Deaths16='1551.0', Deaths17=1039.0, Deaths18='2079.0', Deaths19=1880.0, Deaths20='3120.0', Deaths21=1745.0, Deaths22='3465.0', Deaths23='5963.0', Deaths24=None, Deaths25=None, Deaths26=82.0, IM_Deaths1=39632.0, IM_Deaths2=None, IM_Deaths3=None, IM_Deaths4=None),\n",
       " Row(Country=1125, Admin1=None, SubDiv=None, Year=1955, List='07A', Cause='A001', Sex=1, Frmat=1, IM_Frmat=8.0, Deaths1=1302, Deaths2=6.0, Deaths3=14.0, Deaths4='17.0', Deaths5='12.0', Deaths6='11.0', Deaths7=26.0, Deaths8='22.0', Deaths9=85.0, Deaths10='149.0', Deaths11=185.0, Deaths12='108.0', Deaths13=140.0, Deaths14='130.0', Deaths15=110.0, Deaths16='103.0', Deaths17=62.0, Deaths18='48.0', Deaths19=37.0, Deaths20='20.0', Deaths21=8.0, Deaths22='6.0', Deaths23='2.0', Deaths24=None, Deaths25=None, Deaths26=1.0, IM_Deaths1=6.0, IM_Deaths2=None, IM_Deaths3=None, IM_Deaths4=None)]"
      ]
     },
     "execution_count": 9,
     "metadata": {},
     "output_type": "execute_result"
    }
   ],
   "source": [
    "df.head(3)"
   ]
  },
  {
   "cell_type": "markdown",
   "metadata": {},
   "source": [
    "## Step 2: Data Wrangling"
   ]
  },
  {
   "cell_type": "markdown",
   "metadata": {},
   "source": [
    "### To select specific columns"
   ]
  },
  {
   "cell_type": "code",
   "execution_count": 10,
   "metadata": {},
   "outputs": [
    {
     "name": "stdout",
     "output_type": "stream",
     "text": [
      "+-------+\n",
      "|Country|\n",
      "+-------+\n",
      "|   1125|\n",
      "|   1125|\n",
      "|   1125|\n",
      "|   1125|\n",
      "|   1125|\n",
      "|   1125|\n",
      "|   1125|\n",
      "|   1125|\n",
      "|   1125|\n",
      "|   1125|\n",
      "|   1125|\n",
      "|   1125|\n",
      "|   1125|\n",
      "|   1125|\n",
      "|   1125|\n",
      "|   1125|\n",
      "|   1125|\n",
      "|   1125|\n",
      "|   1125|\n",
      "|   1125|\n",
      "+-------+\n",
      "only showing top 20 rows\n",
      "\n"
     ]
    }
   ],
   "source": [
    "df.select('Country').show()"
   ]
  },
  {
   "cell_type": "markdown",
   "metadata": {},
   "source": [
    "### To select multiple columns"
   ]
  },
  {
   "cell_type": "code",
   "execution_count": 11,
   "metadata": {},
   "outputs": [
    {
     "name": "stdout",
     "output_type": "stream",
     "text": [
      "+-------+----+\n",
      "|Country|Year|\n",
      "+-------+----+\n",
      "|   1125|1955|\n",
      "|   1125|1955|\n",
      "|   1125|1955|\n",
      "|   1125|1955|\n",
      "|   1125|1955|\n",
      "|   1125|1955|\n",
      "|   1125|1955|\n",
      "|   1125|1955|\n",
      "|   1125|1955|\n",
      "|   1125|1955|\n",
      "|   1125|1955|\n",
      "|   1125|1955|\n",
      "|   1125|1955|\n",
      "|   1125|1955|\n",
      "|   1125|1955|\n",
      "|   1125|1955|\n",
      "|   1125|1955|\n",
      "|   1125|1955|\n",
      "|   1125|1955|\n",
      "|   1125|1955|\n",
      "+-------+----+\n",
      "only showing top 20 rows\n",
      "\n"
     ]
    }
   ],
   "source": [
    "df.select('Country', 'Year').show()"
   ]
  },
  {
   "cell_type": "code",
   "execution_count": 12,
   "metadata": {},
   "outputs": [
    {
     "data": {
      "text/plain": [
       "Column<'Year'>"
      ]
     },
     "execution_count": 12,
     "metadata": {},
     "output_type": "execute_result"
    }
   ],
   "source": [
    "df['Year']"
   ]
  },
  {
   "cell_type": "code",
   "execution_count": 13,
   "metadata": {},
   "outputs": [
    {
     "data": {
      "text/plain": [
       "[('Country', 'int'),\n",
       " ('Admin1', 'string'),\n",
       " ('SubDiv', 'string'),\n",
       " ('Year', 'int'),\n",
       " ('List', 'string'),\n",
       " ('Cause', 'string'),\n",
       " ('Sex', 'int'),\n",
       " ('Frmat', 'int'),\n",
       " ('IM_Frmat', 'double'),\n",
       " ('Deaths1', 'int'),\n",
       " ('Deaths2', 'double'),\n",
       " ('Deaths3', 'double'),\n",
       " ('Deaths4', 'string'),\n",
       " ('Deaths5', 'string'),\n",
       " ('Deaths6', 'string'),\n",
       " ('Deaths7', 'double'),\n",
       " ('Deaths8', 'string'),\n",
       " ('Deaths9', 'double'),\n",
       " ('Deaths10', 'string'),\n",
       " ('Deaths11', 'double'),\n",
       " ('Deaths12', 'string'),\n",
       " ('Deaths13', 'double'),\n",
       " ('Deaths14', 'string'),\n",
       " ('Deaths15', 'double'),\n",
       " ('Deaths16', 'string'),\n",
       " ('Deaths17', 'double'),\n",
       " ('Deaths18', 'string'),\n",
       " ('Deaths19', 'double'),\n",
       " ('Deaths20', 'string'),\n",
       " ('Deaths21', 'double'),\n",
       " ('Deaths22', 'string'),\n",
       " ('Deaths23', 'string'),\n",
       " ('Deaths24', 'string'),\n",
       " ('Deaths25', 'string'),\n",
       " ('Deaths26', 'double'),\n",
       " ('IM_Deaths1', 'double'),\n",
       " ('IM_Deaths2', 'string'),\n",
       " ('IM_Deaths3', 'string'),\n",
       " ('IM_Deaths4', 'string')]"
      ]
     },
     "execution_count": 13,
     "metadata": {},
     "output_type": "execute_result"
    }
   ],
   "source": [
    "df.dtypes"
   ]
  },
  {
   "cell_type": "code",
   "execution_count": 14,
   "metadata": {},
   "outputs": [
    {
     "data": {
      "text/plain": [
       "DataFrame[summary: string, Country: string, Admin1: string, SubDiv: string, Year: string, List: string, Cause: string, Sex: string, Frmat: string, IM_Frmat: string, Deaths1: string, Deaths2: string, Deaths3: string, Deaths4: string, Deaths5: string, Deaths6: string, Deaths7: string, Deaths8: string, Deaths9: string, Deaths10: string, Deaths11: string, Deaths12: string, Deaths13: string, Deaths14: string, Deaths15: string, Deaths16: string, Deaths17: string, Deaths18: string, Deaths19: string, Deaths20: string, Deaths21: string, Deaths22: string, Deaths23: string, Deaths24: string, Deaths25: string, Deaths26: string, IM_Deaths1: string, IM_Deaths2: string, IM_Deaths3: string, IM_Deaths4: string]"
      ]
     },
     "execution_count": 14,
     "metadata": {},
     "output_type": "execute_result"
    }
   ],
   "source": [
    "df.describe()"
   ]
  },
  {
   "cell_type": "markdown",
   "metadata": {},
   "source": [
    "### To add a column"
   ]
  },
  {
   "cell_type": "code",
   "execution_count": 15,
   "metadata": {},
   "outputs": [
    {
     "name": "stdout",
     "output_type": "stream",
     "text": [
      "+-------+------+------+----+----+-----+---+-----+--------+-------+-------+-------+-------+-------+-------+-------+-------+-------+--------+--------+--------+--------+--------+--------+--------+--------+--------+--------+--------+--------+--------+--------+--------+--------+--------+----------+----------+----------+----------+-------------+\n",
      "|Country|Admin1|SubDiv|Year|List|Cause|Sex|Frmat|IM_Frmat|Deaths1|Deaths2|Deaths3|Deaths4|Deaths5|Deaths6|Deaths7|Deaths8|Deaths9|Deaths10|Deaths11|Deaths12|Deaths13|Deaths14|Deaths15|Deaths16|Deaths17|Deaths18|Deaths19|Deaths20|Deaths21|Deaths22|Deaths23|Deaths24|Deaths25|Deaths26|IM_Deaths1|IM_Deaths2|IM_Deaths3|IM_Deaths4|After 2 Years|\n",
      "+-------+------+------+----+----+-----+---+-----+--------+-------+-------+-------+-------+-------+-------+-------+-------+-------+--------+--------+--------+--------+--------+--------+--------+--------+--------+--------+--------+--------+--------+--------+--------+--------+--------+----------+----------+----------+----------+-------------+\n",
      "|   1125|  NULL|  NULL|1955| 07A| A000|  1|    1|     8.0| 107822|40543.0|18814.0| 8192.0| 2860.0| 1440.0| 2120.0| 1219.0| 1059.0|  1133.0|  1639.0|  1066.0|  1656.0|  1654.0|  1829.0|  2619.0|  1894.0|  2941.0|  2681.0|  3383.0|  2013.0|  2727.0|  4126.0|    NULL|    NULL|   214.0|   40543.0|      NULL|      NULL|      NULL|         1957|\n",
      "|   1125|  NULL|  NULL|1955| 07A| A000|  2|    1|     8.0| 105750|39632.0|21606.0| 9090.0| 3052.0| 1404.0| 1679.0|  899.0|  889.0|   826.0|  1414.0|   900.0|  1241.0|  1118.0|  1076.0|  1551.0|  1039.0|  2079.0|  1880.0|  3120.0|  1745.0|  3465.0|  5963.0|    NULL|    NULL|    82.0|   39632.0|      NULL|      NULL|      NULL|         1957|\n",
      "|   1125|  NULL|  NULL|1955| 07A| A001|  1|    1|     8.0|   1302|    6.0|   14.0|   17.0|   12.0|   11.0|   26.0|   22.0|   85.0|   149.0|   185.0|   108.0|   140.0|   130.0|   110.0|   103.0|    62.0|    48.0|    37.0|    20.0|     8.0|     6.0|     2.0|    NULL|    NULL|     1.0|       6.0|      NULL|      NULL|      NULL|         1957|\n",
      "|   1125|  NULL|  NULL|1955| 07A| A001|  2|    1|     8.0|    739|    4.0|   16.0|   13.0|   17.0|   10.0|   28.0|   29.0|   75.0|    84.0|   129.0|    76.0|    74.0|    60.0|    37.0|    34.0|    18.0|    18.0|     6.0|     6.0|     2.0|     1.0|     2.0|    NULL|    NULL|     0.0|       4.0|      NULL|      NULL|      NULL|         1957|\n",
      "|   1125|  NULL|  NULL|1955| 07A| A002|  1|    1|     8.0|     69|    7.0|   13.0|    4.0|    9.0|    5.0|   13.0|    4.0|    2.0|     2.0|     3.0|     2.0|     3.0|     0.0|     0.0|     2.0|     0.0|     0.0|     0.0|     0.0|     0.0|     0.0|     0.0|    NULL|    NULL|     0.0|       7.0|      NULL|      NULL|      NULL|         1957|\n",
      "|   1125|  NULL|  NULL|1955| 07A| A002|  2|    1|     8.0|     42|    6.0|    8.0|    1.0|    3.0|    5.0|    5.0|    1.0|    1.0|     5.0|     3.0|     2.0|     0.0|     1.0|     1.0|     0.0|     0.0|     0.0|     0.0|     0.0|     0.0|     0.0|     0.0|    NULL|    NULL|     0.0|       6.0|      NULL|      NULL|      NULL|         1957|\n",
      "|   1125|  NULL|  NULL|1955| 07A| A003|  1|    1|     8.0|    100|    3.0|    5.0|    5.0|    1.0|    7.0|   14.0|    5.0|    8.0|    12.0|    12.0|     4.0|     2.0|     4.0|     9.0|     1.0|     2.0|     2.0|     1.0|     2.0|     0.0|     1.0|     0.0|    NULL|    NULL|     0.0|       3.0|      NULL|      NULL|      NULL|         1957|\n",
      "|   1125|  NULL|  NULL|1955| 07A| A003|  2|    1|     8.0|     73|    2.0|    0.0|    3.0|    5.0|    5.0|   13.0|    6.0|    3.0|     7.0|     7.0|     4.0|     4.0|     2.0|     3.0|     4.0|     3.0|     1.0|     0.0|     0.0|     0.0|     1.0|     0.0|    NULL|    NULL|     0.0|       2.0|      NULL|      NULL|      NULL|         1957|\n",
      "|   1125|  NULL|  NULL|1955| 07A| A004|  1|    1|     8.0|     42|    0.0|    0.0|    0.0|    1.0|    1.0|    6.0|    3.0|    4.0|     3.0|     4.0|     3.0|     3.0|     3.0|     2.0|     4.0|     1.0|     4.0|     0.0|     0.0|     0.0|     0.0|     0.0|    NULL|    NULL|     0.0|       0.0|      NULL|      NULL|      NULL|         1957|\n",
      "|   1125|  NULL|  NULL|1955| 07A| A004|  2|    1|     8.0|     34|    1.0|    0.0|    0.0|    1.0|    0.0|    0.0|    3.0|    2.0|     3.0|     8.0|     4.0|     3.0|     1.0|     3.0|     1.0|     1.0|     1.0|     1.0|     0.0|     0.0|     0.0|     1.0|    NULL|    NULL|     0.0|       1.0|      NULL|      NULL|      NULL|         1957|\n",
      "|   1125|  NULL|  NULL|1955| 07A| A005|  1|    1|     8.0|      9|    0.0|    1.0|    1.0|    0.0|    0.0|    2.0|    0.0|    0.0|     1.0|     1.0|     0.0|     1.0|     0.0|     0.0|     2.0|     0.0|     0.0|     0.0|     0.0|     0.0|     0.0|     0.0|    NULL|    NULL|     0.0|       0.0|      NULL|      NULL|      NULL|         1957|\n",
      "|   1125|  NULL|  NULL|1955| 07A| A005|  2|    1|     8.0|     11|    0.0|    1.0|    0.0|    0.0|    1.0|    0.0|    1.0|    1.0|     0.0|     2.0|     1.0|     1.0|     0.0|     1.0|     1.0|     0.0|     1.0|     0.0|     0.0|     0.0|     0.0|     0.0|    NULL|    NULL|     0.0|       0.0|      NULL|      NULL|      NULL|         1957|\n",
      "|   1125|  NULL|  NULL|1955| 07A| A006|  1|    1|     8.0|     69|   59.0|    2.0|    0.0|    1.0|    0.0|    1.0|    1.0|    0.0|     0.0|     0.0|     1.0|     0.0|     0.0|     0.0|     2.0|     1.0|     0.0|     1.0|     0.0|     0.0|     0.0|     0.0|    NULL|    NULL|     0.0|      59.0|      NULL|      NULL|      NULL|         1957|\n",
      "|   1125|  NULL|  NULL|1955| 07A| A006|  2|    1|     8.0|     46|   34.0|    3.0|    1.0|    4.0|    1.0|    0.0|    0.0|    2.0|     0.0|     0.0|     0.0|     0.0|     1.0|     0.0|     0.0|     0.0|     0.0|     0.0|     0.0|     0.0|     0.0|     0.0|    NULL|    NULL|     0.0|      34.0|      NULL|      NULL|      NULL|         1957|\n",
      "|   1125|  NULL|  NULL|1955| 07A| A007|  1|    1|     8.0|      0|    0.0|    0.0|    0.0|    0.0|    0.0|    0.0|    0.0|    0.0|     0.0|     0.0|     0.0|     0.0|     0.0|     0.0|     0.0|     0.0|     0.0|     0.0|     0.0|     0.0|     0.0|     0.0|    NULL|    NULL|     0.0|       0.0|      NULL|      NULL|      NULL|         1957|\n",
      "|   1125|  NULL|  NULL|1955| 07A| A007|  2|    1|     8.0|      0|    0.0|    0.0|    0.0|    0.0|    0.0|    0.0|    0.0|    0.0|     0.0|     0.0|     0.0|     0.0|     0.0|     0.0|     0.0|     0.0|     0.0|     0.0|     0.0|     0.0|     0.0|     0.0|    NULL|    NULL|     0.0|       0.0|      NULL|      NULL|      NULL|         1957|\n",
      "|   1125|  NULL|  NULL|1955| 07A| A008|  1|    1|     8.0|      0|    0.0|    0.0|    0.0|    0.0|    0.0|    0.0|    0.0|    0.0|     0.0|     0.0|     0.0|     0.0|     0.0|     0.0|     0.0|     0.0|     0.0|     0.0|     0.0|     0.0|     0.0|     0.0|    NULL|    NULL|     0.0|       0.0|      NULL|      NULL|      NULL|         1957|\n",
      "|   1125|  NULL|  NULL|1955| 07A| A008|  2|    1|     8.0|      0|    0.0|    0.0|    0.0|    0.0|    0.0|    0.0|    0.0|    0.0|     0.0|     0.0|     0.0|     0.0|     0.0|     0.0|     0.0|     0.0|     0.0|     0.0|     0.0|     0.0|     0.0|     0.0|    NULL|    NULL|     0.0|       0.0|      NULL|      NULL|      NULL|         1957|\n",
      "|   1125|  NULL|  NULL|1955| 07A| A009|  1|    1|     8.0|      6|    0.0|    0.0|    0.0|    0.0|    0.0|    0.0|    0.0|    0.0|     0.0|     0.0|     0.0|     2.0|     1.0|     0.0|     2.0|     0.0|     1.0|     0.0|     0.0|     0.0|     0.0|     0.0|    NULL|    NULL|     0.0|       0.0|      NULL|      NULL|      NULL|         1957|\n",
      "|   1125|  NULL|  NULL|1955| 07A| A009|  2|    1|     8.0|      2|    0.0|    0.0|    0.0|    0.0|    0.0|    0.0|    0.0|    0.0|     0.0|     0.0|     0.0|     1.0|     0.0|     0.0|     1.0|     0.0|     0.0|     0.0|     0.0|     0.0|     0.0|     0.0|    NULL|    NULL|     0.0|       0.0|      NULL|      NULL|      NULL|         1957|\n",
      "+-------+------+------+----+----+-----+---+-----+--------+-------+-------+-------+-------+-------+-------+-------+-------+-------+--------+--------+--------+--------+--------+--------+--------+--------+--------+--------+--------+--------+--------+--------+--------+--------+--------+----------+----------+----------+----------+-------------+\n",
      "only showing top 20 rows\n",
      "\n"
     ]
    }
   ],
   "source": [
    "df.withColumn('After 2 Years', df['Year'] + 2).show()"
   ]
  },
  {
   "cell_type": "markdown",
   "metadata": {},
   "source": [
    "### To drop a column"
   ]
  },
  {
   "cell_type": "code",
   "execution_count": 16,
   "metadata": {},
   "outputs": [
    {
     "data": {
      "text/plain": [
       "DataFrame[Country: int, Year: int, List: string, Cause: string, Sex: int, Frmat: int, IM_Frmat: double, Deaths1: int, Deaths2: double, Deaths3: double, Deaths4: string, Deaths5: string, Deaths6: string, Deaths7: double, Deaths8: string, Deaths9: double, Deaths10: string, Deaths11: double, Deaths12: string, Deaths13: double, Deaths14: string, Deaths15: double, Deaths16: string, Deaths17: double, Deaths18: string, Deaths19: double, Deaths20: string, Deaths21: double, Deaths22: string, Deaths23: string, Deaths24: string, Deaths25: string, Deaths26: double, IM_Deaths1: double, IM_Deaths2: string, IM_Deaths3: string, IM_Deaths4: string]"
      ]
     },
     "execution_count": 16,
     "metadata": {},
     "output_type": "execute_result"
    }
   ],
   "source": [
    "df.drop('Admin1', 'SubDiv')"
   ]
  },
  {
   "cell_type": "markdown",
   "metadata": {},
   "source": [
    "### To rename a column"
   ]
  },
  {
   "cell_type": "code",
   "execution_count": 17,
   "metadata": {},
   "outputs": [
    {
     "name": "stdout",
     "output_type": "stream",
     "text": [
      "+-------+------+------+--------------+----+-----+---+-----+--------+-------+-------+-------+-------+-------+-------+-------+-------+-------+--------+--------+--------+--------+--------+--------+--------+--------+--------+--------+--------+--------+--------+--------+--------+--------+--------+----------+----------+----------+----------+\n",
      "|Country|Admin1|SubDiv|Happy New Year|List|Cause|Sex|Frmat|IM_Frmat|Deaths1|Deaths2|Deaths3|Deaths4|Deaths5|Deaths6|Deaths7|Deaths8|Deaths9|Deaths10|Deaths11|Deaths12|Deaths13|Deaths14|Deaths15|Deaths16|Deaths17|Deaths18|Deaths19|Deaths20|Deaths21|Deaths22|Deaths23|Deaths24|Deaths25|Deaths26|IM_Deaths1|IM_Deaths2|IM_Deaths3|IM_Deaths4|\n",
      "+-------+------+------+--------------+----+-----+---+-----+--------+-------+-------+-------+-------+-------+-------+-------+-------+-------+--------+--------+--------+--------+--------+--------+--------+--------+--------+--------+--------+--------+--------+--------+--------+--------+--------+----------+----------+----------+----------+\n",
      "|   1125|  NULL|  NULL|          1955| 07A| A000|  1|    1|     8.0| 107822|40543.0|18814.0| 8192.0| 2860.0| 1440.0| 2120.0| 1219.0| 1059.0|  1133.0|  1639.0|  1066.0|  1656.0|  1654.0|  1829.0|  2619.0|  1894.0|  2941.0|  2681.0|  3383.0|  2013.0|  2727.0|  4126.0|    NULL|    NULL|   214.0|   40543.0|      NULL|      NULL|      NULL|\n",
      "|   1125|  NULL|  NULL|          1955| 07A| A000|  2|    1|     8.0| 105750|39632.0|21606.0| 9090.0| 3052.0| 1404.0| 1679.0|  899.0|  889.0|   826.0|  1414.0|   900.0|  1241.0|  1118.0|  1076.0|  1551.0|  1039.0|  2079.0|  1880.0|  3120.0|  1745.0|  3465.0|  5963.0|    NULL|    NULL|    82.0|   39632.0|      NULL|      NULL|      NULL|\n",
      "|   1125|  NULL|  NULL|          1955| 07A| A001|  1|    1|     8.0|   1302|    6.0|   14.0|   17.0|   12.0|   11.0|   26.0|   22.0|   85.0|   149.0|   185.0|   108.0|   140.0|   130.0|   110.0|   103.0|    62.0|    48.0|    37.0|    20.0|     8.0|     6.0|     2.0|    NULL|    NULL|     1.0|       6.0|      NULL|      NULL|      NULL|\n",
      "|   1125|  NULL|  NULL|          1955| 07A| A001|  2|    1|     8.0|    739|    4.0|   16.0|   13.0|   17.0|   10.0|   28.0|   29.0|   75.0|    84.0|   129.0|    76.0|    74.0|    60.0|    37.0|    34.0|    18.0|    18.0|     6.0|     6.0|     2.0|     1.0|     2.0|    NULL|    NULL|     0.0|       4.0|      NULL|      NULL|      NULL|\n",
      "|   1125|  NULL|  NULL|          1955| 07A| A002|  1|    1|     8.0|     69|    7.0|   13.0|    4.0|    9.0|    5.0|   13.0|    4.0|    2.0|     2.0|     3.0|     2.0|     3.0|     0.0|     0.0|     2.0|     0.0|     0.0|     0.0|     0.0|     0.0|     0.0|     0.0|    NULL|    NULL|     0.0|       7.0|      NULL|      NULL|      NULL|\n",
      "|   1125|  NULL|  NULL|          1955| 07A| A002|  2|    1|     8.0|     42|    6.0|    8.0|    1.0|    3.0|    5.0|    5.0|    1.0|    1.0|     5.0|     3.0|     2.0|     0.0|     1.0|     1.0|     0.0|     0.0|     0.0|     0.0|     0.0|     0.0|     0.0|     0.0|    NULL|    NULL|     0.0|       6.0|      NULL|      NULL|      NULL|\n",
      "|   1125|  NULL|  NULL|          1955| 07A| A003|  1|    1|     8.0|    100|    3.0|    5.0|    5.0|    1.0|    7.0|   14.0|    5.0|    8.0|    12.0|    12.0|     4.0|     2.0|     4.0|     9.0|     1.0|     2.0|     2.0|     1.0|     2.0|     0.0|     1.0|     0.0|    NULL|    NULL|     0.0|       3.0|      NULL|      NULL|      NULL|\n",
      "|   1125|  NULL|  NULL|          1955| 07A| A003|  2|    1|     8.0|     73|    2.0|    0.0|    3.0|    5.0|    5.0|   13.0|    6.0|    3.0|     7.0|     7.0|     4.0|     4.0|     2.0|     3.0|     4.0|     3.0|     1.0|     0.0|     0.0|     0.0|     1.0|     0.0|    NULL|    NULL|     0.0|       2.0|      NULL|      NULL|      NULL|\n",
      "|   1125|  NULL|  NULL|          1955| 07A| A004|  1|    1|     8.0|     42|    0.0|    0.0|    0.0|    1.0|    1.0|    6.0|    3.0|    4.0|     3.0|     4.0|     3.0|     3.0|     3.0|     2.0|     4.0|     1.0|     4.0|     0.0|     0.0|     0.0|     0.0|     0.0|    NULL|    NULL|     0.0|       0.0|      NULL|      NULL|      NULL|\n",
      "|   1125|  NULL|  NULL|          1955| 07A| A004|  2|    1|     8.0|     34|    1.0|    0.0|    0.0|    1.0|    0.0|    0.0|    3.0|    2.0|     3.0|     8.0|     4.0|     3.0|     1.0|     3.0|     1.0|     1.0|     1.0|     1.0|     0.0|     0.0|     0.0|     1.0|    NULL|    NULL|     0.0|       1.0|      NULL|      NULL|      NULL|\n",
      "|   1125|  NULL|  NULL|          1955| 07A| A005|  1|    1|     8.0|      9|    0.0|    1.0|    1.0|    0.0|    0.0|    2.0|    0.0|    0.0|     1.0|     1.0|     0.0|     1.0|     0.0|     0.0|     2.0|     0.0|     0.0|     0.0|     0.0|     0.0|     0.0|     0.0|    NULL|    NULL|     0.0|       0.0|      NULL|      NULL|      NULL|\n",
      "|   1125|  NULL|  NULL|          1955| 07A| A005|  2|    1|     8.0|     11|    0.0|    1.0|    0.0|    0.0|    1.0|    0.0|    1.0|    1.0|     0.0|     2.0|     1.0|     1.0|     0.0|     1.0|     1.0|     0.0|     1.0|     0.0|     0.0|     0.0|     0.0|     0.0|    NULL|    NULL|     0.0|       0.0|      NULL|      NULL|      NULL|\n",
      "|   1125|  NULL|  NULL|          1955| 07A| A006|  1|    1|     8.0|     69|   59.0|    2.0|    0.0|    1.0|    0.0|    1.0|    1.0|    0.0|     0.0|     0.0|     1.0|     0.0|     0.0|     0.0|     2.0|     1.0|     0.0|     1.0|     0.0|     0.0|     0.0|     0.0|    NULL|    NULL|     0.0|      59.0|      NULL|      NULL|      NULL|\n",
      "|   1125|  NULL|  NULL|          1955| 07A| A006|  2|    1|     8.0|     46|   34.0|    3.0|    1.0|    4.0|    1.0|    0.0|    0.0|    2.0|     0.0|     0.0|     0.0|     0.0|     1.0|     0.0|     0.0|     0.0|     0.0|     0.0|     0.0|     0.0|     0.0|     0.0|    NULL|    NULL|     0.0|      34.0|      NULL|      NULL|      NULL|\n",
      "|   1125|  NULL|  NULL|          1955| 07A| A007|  1|    1|     8.0|      0|    0.0|    0.0|    0.0|    0.0|    0.0|    0.0|    0.0|    0.0|     0.0|     0.0|     0.0|     0.0|     0.0|     0.0|     0.0|     0.0|     0.0|     0.0|     0.0|     0.0|     0.0|     0.0|    NULL|    NULL|     0.0|       0.0|      NULL|      NULL|      NULL|\n",
      "|   1125|  NULL|  NULL|          1955| 07A| A007|  2|    1|     8.0|      0|    0.0|    0.0|    0.0|    0.0|    0.0|    0.0|    0.0|    0.0|     0.0|     0.0|     0.0|     0.0|     0.0|     0.0|     0.0|     0.0|     0.0|     0.0|     0.0|     0.0|     0.0|     0.0|    NULL|    NULL|     0.0|       0.0|      NULL|      NULL|      NULL|\n",
      "|   1125|  NULL|  NULL|          1955| 07A| A008|  1|    1|     8.0|      0|    0.0|    0.0|    0.0|    0.0|    0.0|    0.0|    0.0|    0.0|     0.0|     0.0|     0.0|     0.0|     0.0|     0.0|     0.0|     0.0|     0.0|     0.0|     0.0|     0.0|     0.0|     0.0|    NULL|    NULL|     0.0|       0.0|      NULL|      NULL|      NULL|\n",
      "|   1125|  NULL|  NULL|          1955| 07A| A008|  2|    1|     8.0|      0|    0.0|    0.0|    0.0|    0.0|    0.0|    0.0|    0.0|    0.0|     0.0|     0.0|     0.0|     0.0|     0.0|     0.0|     0.0|     0.0|     0.0|     0.0|     0.0|     0.0|     0.0|     0.0|    NULL|    NULL|     0.0|       0.0|      NULL|      NULL|      NULL|\n",
      "|   1125|  NULL|  NULL|          1955| 07A| A009|  1|    1|     8.0|      6|    0.0|    0.0|    0.0|    0.0|    0.0|    0.0|    0.0|    0.0|     0.0|     0.0|     0.0|     2.0|     1.0|     0.0|     2.0|     0.0|     1.0|     0.0|     0.0|     0.0|     0.0|     0.0|    NULL|    NULL|     0.0|       0.0|      NULL|      NULL|      NULL|\n",
      "|   1125|  NULL|  NULL|          1955| 07A| A009|  2|    1|     8.0|      2|    0.0|    0.0|    0.0|    0.0|    0.0|    0.0|    0.0|    0.0|     0.0|     0.0|     0.0|     1.0|     0.0|     0.0|     1.0|     0.0|     0.0|     0.0|     0.0|     0.0|     0.0|     0.0|    NULL|    NULL|     0.0|       0.0|      NULL|      NULL|      NULL|\n",
      "+-------+------+------+--------------+----+-----+---+-----+--------+-------+-------+-------+-------+-------+-------+-------+-------+-------+--------+--------+--------+--------+--------+--------+--------+--------+--------+--------+--------+--------+--------+--------+--------+--------+--------+----------+----------+----------+----------+\n",
      "only showing top 20 rows\n",
      "\n"
     ]
    }
   ],
   "source": [
    "df.withColumnRenamed('Year', 'Happy New Year').show()"
   ]
  },
  {
   "cell_type": "markdown",
   "metadata": {},
   "source": [
    "### Removing null values"
   ]
  },
  {
   "cell_type": "markdown",
   "metadata": {},
   "source": [
    "#### The whole record containing all null values"
   ]
  },
  {
   "cell_type": "code",
   "execution_count": 18,
   "metadata": {},
   "outputs": [],
   "source": [
    "df_no_null_values = df.na.drop(how = 'all')"
   ]
  },
  {
   "cell_type": "markdown",
   "metadata": {},
   "source": [
    "#### In our case we dont have any as the count is same"
   ]
  },
  {
   "cell_type": "code",
   "execution_count": 19,
   "metadata": {},
   "outputs": [
    {
     "data": {
      "text/plain": [
       "6103609"
      ]
     },
     "execution_count": 19,
     "metadata": {},
     "output_type": "execute_result"
    }
   ],
   "source": [
    "df_no_null_values.count()"
   ]
  },
  {
   "cell_type": "markdown",
   "metadata": {},
   "source": [
    "#### If null found any where it will be deleted"
   ]
  },
  {
   "cell_type": "code",
   "execution_count": 20,
   "metadata": {},
   "outputs": [],
   "source": [
    "df_no_null_values = df.na.drop()"
   ]
  },
  {
   "cell_type": "markdown",
   "metadata": {},
   "source": [
    "#### In our case we dont want to lose data so we are not going with this step"
   ]
  },
  {
   "cell_type": "code",
   "execution_count": 21,
   "metadata": {},
   "outputs": [
    {
     "data": {
      "text/plain": [
       "61"
      ]
     },
     "execution_count": 21,
     "metadata": {},
     "output_type": "execute_result"
    }
   ],
   "source": [
    "df_no_null_values.count()"
   ]
  },
  {
   "cell_type": "code",
   "execution_count": 22,
   "metadata": {},
   "outputs": [],
   "source": [
    "df_no_null_values = df.na.drop(how = 'any', thresh = 30)"
   ]
  },
  {
   "cell_type": "markdown",
   "metadata": {},
   "source": [
    "#### Here we are losing 1 million records. And we dont want this to happen"
   ]
  },
  {
   "cell_type": "code",
   "execution_count": 23,
   "metadata": {},
   "outputs": [
    {
     "data": {
      "text/plain": [
       "5740893"
      ]
     },
     "execution_count": 23,
     "metadata": {},
     "output_type": "execute_result"
    }
   ],
   "source": [
    "df_no_null_values.count()"
   ]
  },
  {
   "cell_type": "markdown",
   "metadata": {},
   "source": [
    "#### Droping null values from subset of columns"
   ]
  },
  {
   "cell_type": "code",
   "execution_count": 24,
   "metadata": {},
   "outputs": [],
   "source": [
    "df_no_null_values = df.na.drop(how = 'any', subset = ['Year'])"
   ]
  },
  {
   "cell_type": "code",
   "execution_count": 25,
   "metadata": {},
   "outputs": [
    {
     "data": {
      "text/plain": [
       "6103607"
      ]
     },
     "execution_count": 25,
     "metadata": {},
     "output_type": "execute_result"
    }
   ],
   "source": [
    "df_no_null_values.count()"
   ]
  },
  {
   "cell_type": "markdown",
   "metadata": {},
   "source": [
    "### Filling null values"
   ]
  },
  {
   "cell_type": "code",
   "execution_count": 26,
   "metadata": {},
   "outputs": [],
   "source": [
    "df_na_filled = df_no_null_values.na.fill(0, ['Deaths1', 'Deaths2', 'Deaths3', 'Deaths4', 'Deaths5', 'Deaths6', 'Deaths7', 'Deaths8', 'Deaths9', 'Deaths10',\n",
    "                                            'Deaths11', 'Deaths12', 'Deaths13', 'Deaths14', 'Deaths15', 'Deaths16', 'Deaths17', 'Deaths18', 'Deaths19', 'Deaths20',\n",
    "                                            'Deaths21', 'Deaths22', 'Deaths23', 'Deaths24', 'Deaths25', 'Deaths26'])"
   ]
  },
  {
   "cell_type": "markdown",
   "metadata": {},
   "source": [
    "#### Mapping the data to dictionary"
   ]
  },
  {
   "cell_type": "code",
   "execution_count": 27,
   "metadata": {},
   "outputs": [],
   "source": [
    "import pandas as pd\n",
    "codes = pd.read_csv(r'country_codes.csv', index_col = False)"
   ]
  },
  {
   "cell_type": "code",
   "execution_count": 28,
   "metadata": {},
   "outputs": [
    {
     "data": {
      "text/plain": [
       "country    string[python]\n",
       "name       string[python]\n",
       "dtype: object"
      ]
     },
     "execution_count": 28,
     "metadata": {},
     "output_type": "execute_result"
    }
   ],
   "source": [
    "codes = codes.astype({'country':'string', 'name':'string'})\n",
    "codes.dtypes"
   ]
  },
  {
   "cell_type": "code",
   "execution_count": 29,
   "metadata": {},
   "outputs": [],
   "source": [
    "from pyspark.sql.functions import col\n",
    "from pyspark.sql.types import StringType\n",
    "df_na_filled = df_na_filled.withColumn('Country', col('Country').cast(StringType()))"
   ]
  },
  {
   "cell_type": "code",
   "execution_count": 30,
   "metadata": {},
   "outputs": [
    {
     "data": {
      "text/plain": [
       "[('Country', 'string'),\n",
       " ('Admin1', 'string'),\n",
       " ('SubDiv', 'string'),\n",
       " ('Year', 'int'),\n",
       " ('List', 'string'),\n",
       " ('Cause', 'string'),\n",
       " ('Sex', 'int'),\n",
       " ('Frmat', 'int'),\n",
       " ('IM_Frmat', 'double'),\n",
       " ('Deaths1', 'int'),\n",
       " ('Deaths2', 'double'),\n",
       " ('Deaths3', 'double'),\n",
       " ('Deaths4', 'string'),\n",
       " ('Deaths5', 'string'),\n",
       " ('Deaths6', 'string'),\n",
       " ('Deaths7', 'double'),\n",
       " ('Deaths8', 'string'),\n",
       " ('Deaths9', 'double'),\n",
       " ('Deaths10', 'string'),\n",
       " ('Deaths11', 'double'),\n",
       " ('Deaths12', 'string'),\n",
       " ('Deaths13', 'double'),\n",
       " ('Deaths14', 'string'),\n",
       " ('Deaths15', 'double'),\n",
       " ('Deaths16', 'string'),\n",
       " ('Deaths17', 'double'),\n",
       " ('Deaths18', 'string'),\n",
       " ('Deaths19', 'double'),\n",
       " ('Deaths20', 'string'),\n",
       " ('Deaths21', 'double'),\n",
       " ('Deaths22', 'string'),\n",
       " ('Deaths23', 'string'),\n",
       " ('Deaths24', 'string'),\n",
       " ('Deaths25', 'string'),\n",
       " ('Deaths26', 'double'),\n",
       " ('IM_Deaths1', 'double'),\n",
       " ('IM_Deaths2', 'string'),\n",
       " ('IM_Deaths3', 'string'),\n",
       " ('IM_Deaths4', 'string')]"
      ]
     },
     "execution_count": 30,
     "metadata": {},
     "output_type": "execute_result"
    }
   ],
   "source": [
    "df_na_filled.dtypes"
   ]
  },
  {
   "cell_type": "code",
   "execution_count": 31,
   "metadata": {},
   "outputs": [],
   "source": [
    "map = codes.set_index('country').to_dict()['name']"
   ]
  },
  {
   "cell_type": "code",
   "execution_count": 32,
   "metadata": {},
   "outputs": [
    {
     "data": {
      "text/plain": [
       "{'1010': 'Algeria',\n",
       " '1020': 'Angola',\n",
       " '1025': 'Benin',\n",
       " '1030': 'Botswana',\n",
       " '1035': 'Burkina Faso',\n",
       " '1040': 'Burundi',\n",
       " '1045': 'Cameroon',\n",
       " '1060': 'Cape Verde',\n",
       " '1070': 'Central African Republic',\n",
       " '1080': 'Chad',\n",
       " '1090': 'Comoros',\n",
       " '1100': 'Congo',\n",
       " '1115': \"Cote d'Ivoire\",\n",
       " '1120': 'Djibouti',\n",
       " '1125': 'Egypt',\n",
       " '1130': 'Equatorial Guinea',\n",
       " '1135': 'Eritrea',\n",
       " '1140': 'Ethiopia',\n",
       " '1160': 'Gabon',\n",
       " '1170': 'Gambia',\n",
       " '1180': 'Ghana',\n",
       " '1190': 'Guinea',\n",
       " '1192': 'Guinea-Bissau',\n",
       " '1220': 'Kenya',\n",
       " '1230': 'Lesotho',\n",
       " '1240': 'Liberia',\n",
       " '1250': 'Libyan Arab Jamahiriya',\n",
       " '1260': 'Madagascar',\n",
       " '1270': 'Malawi',\n",
       " '1280': 'Mali',\n",
       " '1290': 'Mauritania',\n",
       " '1300': 'Mauritius',\n",
       " '1303': 'Mayotte',\n",
       " '1310': 'Morocco',\n",
       " '1320': 'Mozambique',\n",
       " '1325': 'Namibia',\n",
       " '1330': 'Niger',\n",
       " '1340': 'Nigeria',\n",
       " '1360': 'Reunion',\n",
       " '1365': 'Rodrigues',\n",
       " '1370': 'Rwanda',\n",
       " '1385': 'Sao Tome and Principe',\n",
       " '1390': 'Senegal',\n",
       " '1400': 'Seychelles',\n",
       " '1410': 'Sierra Leone',\n",
       " '1420': 'Somalia',\n",
       " '1430': 'South Africa',\n",
       " '1460': 'South Sudan',\n",
       " '1465': 'Sudan',\n",
       " '1470': 'Sudan, Former',\n",
       " '1480': 'Swaziland',\n",
       " '1510': 'Togo',\n",
       " '1520': 'Tunisia',\n",
       " '1530': 'Uganda',\n",
       " '1546': 'United Republic of Tanzania',\n",
       " '1555': 'Democratic Republic of the Congo',\n",
       " '1560': 'Zambia',\n",
       " '1570': 'Zimbabwe',\n",
       " '2005': 'Anguilla',\n",
       " '2010': 'Antigua and Barbuda',\n",
       " '2020': 'Argentina',\n",
       " '2025': 'Aruba',\n",
       " '2030': 'Bahamas',\n",
       " '2040': 'Barbados',\n",
       " '2045': 'Belize',\n",
       " '2050': 'Bermuda',\n",
       " '2060': 'Bolivia',\n",
       " '2070': 'Brazil',\n",
       " '2085': 'British Virgin Islands',\n",
       " '2090': 'Canada',\n",
       " '2110': 'Cayman Islands',\n",
       " '2120': 'Chile',\n",
       " '2130': 'Colombia',\n",
       " '2140': 'Costa Rica',\n",
       " '2150': 'Cuba',\n",
       " '2160': 'Dominica',\n",
       " '2170': 'Dominican Republic',\n",
       " '2180': 'Ecuador',\n",
       " '2190': 'El Salvador',\n",
       " '2200': 'Falkland Islands (Malvinas)',\n",
       " '2210': 'French Guiana',\n",
       " '2230': 'Grenada',\n",
       " '2240': 'Guadeloupe',\n",
       " '2250': 'Guatemala',\n",
       " '2260': 'Guyana',\n",
       " '2270': 'Haiti',\n",
       " '2280': 'Honduras',\n",
       " '2290': 'Jamaica',\n",
       " '2300': 'Martinique',\n",
       " '2310': 'Mexico',\n",
       " '2320': 'Montserrat',\n",
       " '2330': 'Netherlands Antilles',\n",
       " '2340': 'Nicaragua',\n",
       " '2350': 'Panama',\n",
       " '2360': 'Paraguay',\n",
       " '2370': 'Peru',\n",
       " '2380': 'Puerto Rico',\n",
       " '2385': 'Saint Kitts and Nevis',\n",
       " '2400': 'Saint Lucia',\n",
       " '2410': 'Saint Pierre and Miquelon',\n",
       " '2420': 'Saint Vincent and Grenadines',\n",
       " '2430': 'Suriname',\n",
       " '2440': 'Trinidad and Tobago',\n",
       " '2445': 'Turks and Caicos Islands',\n",
       " '2450': 'United States of America',\n",
       " '2455': 'Virgin Islands (USA)',\n",
       " '2460': 'Uruguay',\n",
       " '2470': 'Venezuela',\n",
       " '3010': 'Afghanistan',\n",
       " '3020': 'Bahrain',\n",
       " '3025': 'Bangladesh',\n",
       " '3027': 'Bhutan',\n",
       " '3030': 'Brunei Darussalam',\n",
       " '3050': 'Cambodia',\n",
       " '3068': 'China',\n",
       " '3070': 'China: Province of Taiwan only',\n",
       " '3080': 'Cyprus',\n",
       " '3083': \"Democratic Peoples's Republic of Korea\",\n",
       " '3090': 'Hong Kong SAR',\n",
       " '3100': 'India',\n",
       " '3110': 'Indonesia',\n",
       " '3130': 'Iran (Islamic Republic of)',\n",
       " '3140': 'Iraq',\n",
       " '3150': 'Israel',\n",
       " '3160': 'Japan',\n",
       " '3170': 'Jordan',\n",
       " '3190': 'Kuwait',\n",
       " '3200': \"Lao People's Democratic Republic\",\n",
       " '3210': 'Lebanon',\n",
       " '3220': 'Macau',\n",
       " '3236': 'Malaysia',\n",
       " '3255': 'Maldives',\n",
       " '3260': 'Mongolia',\n",
       " '3270': 'Myanmar',\n",
       " '3280': 'Nepal',\n",
       " '3283': 'Occupied Palestinian Territory',\n",
       " '3285': 'Oman',\n",
       " '3290': 'Pakistan',\n",
       " '3300': 'Philippines',\n",
       " '3320': 'Qatar',\n",
       " '3325': 'Republic of Korea',\n",
       " '3330': 'Ryu Kyu Islands',\n",
       " '3340': 'Saudi Arabia',\n",
       " '3350': 'Singapore',\n",
       " '3365': 'Sri Lanka',\n",
       " '3370': 'Syrian Arab Republic',\n",
       " '3380': 'Thailand',\n",
       " '3400': 'Turkey',\n",
       " '3405': 'United Arab Emirates',\n",
       " '3408': 'Viet Nam',\n",
       " '3420': 'Yemen',\n",
       " '4005': 'Albania',\n",
       " '4007': 'Armenia',\n",
       " '4008': 'Andorra',\n",
       " '4010': 'Austria',\n",
       " '4012': 'Azerbaijan',\n",
       " '4018': 'Belarus',\n",
       " '4020': 'Belgium',\n",
       " '4025': 'Bosnia and Herzegovina',\n",
       " '4030': 'Bulgaria',\n",
       " '4038': 'Croatia',\n",
       " '4040': 'Czechoslovakia, Former',\n",
       " '4045': 'Czech Republic',\n",
       " '4050': 'Denmark',\n",
       " '4055': 'Estonia',\n",
       " '4070': 'Finland',\n",
       " '4080': 'France',\n",
       " '4084': 'Georgia',\n",
       " '4085': 'Germany',\n",
       " '4090': 'Germany, Former Democratic Republic',\n",
       " '4100': 'Germany, Former Federal Republic',\n",
       " '4120': 'Germany, West Berlin',\n",
       " '4140': 'Greece',\n",
       " '4150': 'Hungary',\n",
       " '4160': 'Iceland',\n",
       " '4170': 'Ireland',\n",
       " '4180': 'Italy',\n",
       " '4182': 'Kazakhstan',\n",
       " '4184': 'Kyrgyzstan',\n",
       " '4186': 'Latvia',\n",
       " '4188': 'Lithuania',\n",
       " '4190': 'Luxembourg',\n",
       " '4195': 'TFYR Macedonia',\n",
       " '4200': 'Malta',\n",
       " '4205': 'Monaco',\n",
       " '4207': 'Montenegro',\n",
       " '4210': 'Netherlands',\n",
       " '4220': 'Norway',\n",
       " '4230': 'Poland',\n",
       " '4240': 'Portugal',\n",
       " '4260': 'Republic of Moldova',\n",
       " '4270': 'Romania',\n",
       " '4272': 'Russian Federation',\n",
       " '4273': 'Serbia',\n",
       " '4274': 'Slovakia',\n",
       " '4275': 'San Marino',\n",
       " '4276': 'Slovenia',\n",
       " '4280': 'Spain',\n",
       " '4290': 'Sweden',\n",
       " '4300': 'Switzerland',\n",
       " '4301': 'Tajikistan',\n",
       " '4302': 'Turkmenistan',\n",
       " '4303': 'Ukraine',\n",
       " '4304': 'USSR, Former',\n",
       " '4308': 'United Kingdom',\n",
       " '4310': 'United Kingdom, England and Wales',\n",
       " '4320': 'United Kingdom, Northern Ireland',\n",
       " '4330': 'United Kingdom, Scotland',\n",
       " '4335': 'Uzbekistan',\n",
       " '4340': 'Yugoslavia, Former',\n",
       " '4350': 'Serbia and Montenegro, Former',\n",
       " '5020': 'Australia',\n",
       " '5060': 'Cook Islands',\n",
       " '5070': 'Fiji',\n",
       " '5105': 'Kiribati',\n",
       " '5107': 'Marshall Islands',\n",
       " '5108': 'Micronesia (Federated States of)',\n",
       " '5110': 'Nauru',\n",
       " '5150': 'New Zealand',\n",
       " '5170': 'Niue',\n",
       " '5180': 'Palau',\n",
       " '5195': 'Papua New Guinea',\n",
       " '5197': 'Samoa',\n",
       " '5198': 'Solomon Islands',\n",
       " '5200': 'Tonga',\n",
       " '5205': 'Tuvalu',\n",
       " '5207': 'Vanuatu'}"
      ]
     },
     "execution_count": 32,
     "metadata": {},
     "output_type": "execute_result"
    }
   ],
   "source": [
    "map"
   ]
  },
  {
   "cell_type": "code",
   "execution_count": 33,
   "metadata": {},
   "outputs": [],
   "source": [
    "df_na_filled = df_na_filled.replace(map, subset = ['Country'])"
   ]
  },
  {
   "cell_type": "code",
   "execution_count": 34,
   "metadata": {},
   "outputs": [
    {
     "data": {
      "text/plain": [
       "[Row(Country='Egypt', Admin1=None, SubDiv=None, Year=1955, List='07A', Cause='A000', Sex=1, Frmat=1, IM_Frmat=8.0, Deaths1=107822, Deaths2=40543.0, Deaths3=18814.0, Deaths4='8192.0', Deaths5='2860.0', Deaths6='1440.0', Deaths7=2120.0, Deaths8='1219.0', Deaths9=1059.0, Deaths10='1133.0', Deaths11=1639.0, Deaths12='1066.0', Deaths13=1656.0, Deaths14='1654.0', Deaths15=1829.0, Deaths16='2619.0', Deaths17=1894.0, Deaths18='2941.0', Deaths19=2681.0, Deaths20='3383.0', Deaths21=2013.0, Deaths22='2727.0', Deaths23='4126.0', Deaths24=None, Deaths25=None, Deaths26=214.0, IM_Deaths1=40543.0, IM_Deaths2=None, IM_Deaths3=None, IM_Deaths4=None),\n",
       " Row(Country='Egypt', Admin1=None, SubDiv=None, Year=1955, List='07A', Cause='A000', Sex=2, Frmat=1, IM_Frmat=8.0, Deaths1=105750, Deaths2=39632.0, Deaths3=21606.0, Deaths4='9090.0', Deaths5='3052.0', Deaths6='1404.0', Deaths7=1679.0, Deaths8='899.0', Deaths9=889.0, Deaths10='826.0', Deaths11=1414.0, Deaths12='900.0', Deaths13=1241.0, Deaths14='1118.0', Deaths15=1076.0, Deaths16='1551.0', Deaths17=1039.0, Deaths18='2079.0', Deaths19=1880.0, Deaths20='3120.0', Deaths21=1745.0, Deaths22='3465.0', Deaths23='5963.0', Deaths24=None, Deaths25=None, Deaths26=82.0, IM_Deaths1=39632.0, IM_Deaths2=None, IM_Deaths3=None, IM_Deaths4=None),\n",
       " Row(Country='Egypt', Admin1=None, SubDiv=None, Year=1955, List='07A', Cause='A001', Sex=1, Frmat=1, IM_Frmat=8.0, Deaths1=1302, Deaths2=6.0, Deaths3=14.0, Deaths4='17.0', Deaths5='12.0', Deaths6='11.0', Deaths7=26.0, Deaths8='22.0', Deaths9=85.0, Deaths10='149.0', Deaths11=185.0, Deaths12='108.0', Deaths13=140.0, Deaths14='130.0', Deaths15=110.0, Deaths16='103.0', Deaths17=62.0, Deaths18='48.0', Deaths19=37.0, Deaths20='20.0', Deaths21=8.0, Deaths22='6.0', Deaths23='2.0', Deaths24=None, Deaths25=None, Deaths26=1.0, IM_Deaths1=6.0, IM_Deaths2=None, IM_Deaths3=None, IM_Deaths4=None)]"
      ]
     },
     "execution_count": 34,
     "metadata": {},
     "output_type": "execute_result"
    }
   ],
   "source": [
    "df_na_filled.head(3)"
   ]
  },
  {
   "cell_type": "markdown",
   "metadata": {},
   "source": [
    "### GroupBy in PySpark"
   ]
  },
  {
   "cell_type": "code",
   "execution_count": 35,
   "metadata": {},
   "outputs": [],
   "source": [
    "deaths_grouped = df_na_filled.groupBy('Country').sum('Deaths1')\n",
    "deaths_grouped = deaths_grouped.toPandas()\n",
    "# type(deaths_grouped)\n",
    "deaths_grouped.rename(columns = {'sum(Deaths1)':'Total_Deaths'}, inplace = True)\n",
    "deaths_grouped = deaths_grouped.sort_values(by = 'Total_Deaths', ascending = False)\n",
    "deaths_grouped = deaths_grouped.head(20)"
   ]
  },
  {
   "cell_type": "code",
   "execution_count": 36,
   "metadata": {},
   "outputs": [
    {
     "data": {
      "text/html": [
       "<div>\n",
       "<style scoped>\n",
       "    .dataframe tbody tr th:only-of-type {\n",
       "        vertical-align: middle;\n",
       "    }\n",
       "\n",
       "    .dataframe tbody tr th {\n",
       "        vertical-align: top;\n",
       "    }\n",
       "\n",
       "    .dataframe thead th {\n",
       "        text-align: right;\n",
       "    }\n",
       "</style>\n",
       "<table border=\"1\" class=\"dataframe\">\n",
       "  <thead>\n",
       "    <tr style=\"text-align: right;\">\n",
       "      <th></th>\n",
       "      <th>Country</th>\n",
       "      <th>Total_Deaths</th>\n",
       "    </tr>\n",
       "  </thead>\n",
       "  <tbody>\n",
       "    <tr>\n",
       "      <th>54</th>\n",
       "      <td>United States of America</td>\n",
       "      <td>353413616</td>\n",
       "    </tr>\n",
       "    <tr>\n",
       "      <th>136</th>\n",
       "      <td>Russian Federation</td>\n",
       "      <td>247516071</td>\n",
       "    </tr>\n",
       "    <tr>\n",
       "      <th>75</th>\n",
       "      <td>Japan</td>\n",
       "      <td>140261484</td>\n",
       "    </tr>\n",
       "    <tr>\n",
       "      <th>71</th>\n",
       "      <td>Brazil</td>\n",
       "      <td>123306019</td>\n",
       "    </tr>\n",
       "    <tr>\n",
       "      <th>95</th>\n",
       "      <td>United Kingdom</td>\n",
       "      <td>104489404</td>\n",
       "    </tr>\n",
       "    <tr>\n",
       "      <th>93</th>\n",
       "      <td>United Kingdom, England and Wales</td>\n",
       "      <td>93869081</td>\n",
       "    </tr>\n",
       "    <tr>\n",
       "      <th>135</th>\n",
       "      <td>USSR, Former</td>\n",
       "      <td>93459999</td>\n",
       "    </tr>\n",
       "    <tr>\n",
       "      <th>35</th>\n",
       "      <td>Italy</td>\n",
       "      <td>90188454</td>\n",
       "    </tr>\n",
       "    <tr>\n",
       "      <th>10</th>\n",
       "      <td>France</td>\n",
       "      <td>87232829</td>\n",
       "    </tr>\n",
       "    <tr>\n",
       "      <th>138</th>\n",
       "      <td>Ukraine</td>\n",
       "      <td>83472787</td>\n",
       "    </tr>\n",
       "    <tr>\n",
       "      <th>56</th>\n",
       "      <td>Mexico</td>\n",
       "      <td>68170399</td>\n",
       "    </tr>\n",
       "    <tr>\n",
       "      <th>64</th>\n",
       "      <td>Germany, Former Federal Republic</td>\n",
       "      <td>64311700</td>\n",
       "    </tr>\n",
       "    <tr>\n",
       "      <th>101</th>\n",
       "      <td>Germany</td>\n",
       "      <td>62595994</td>\n",
       "    </tr>\n",
       "    <tr>\n",
       "      <th>130</th>\n",
       "      <td>China</td>\n",
       "      <td>60861376</td>\n",
       "    </tr>\n",
       "    <tr>\n",
       "      <th>39</th>\n",
       "      <td>Spain</td>\n",
       "      <td>54446428</td>\n",
       "    </tr>\n",
       "    <tr>\n",
       "      <th>78</th>\n",
       "      <td>Poland</td>\n",
       "      <td>45021394</td>\n",
       "    </tr>\n",
       "    <tr>\n",
       "      <th>86</th>\n",
       "      <td>Egypt</td>\n",
       "      <td>41252414</td>\n",
       "    </tr>\n",
       "    <tr>\n",
       "      <th>46</th>\n",
       "      <td>Thailand</td>\n",
       "      <td>39717667</td>\n",
       "    </tr>\n",
       "    <tr>\n",
       "      <th>82</th>\n",
       "      <td>Romania</td>\n",
       "      <td>32531264</td>\n",
       "    </tr>\n",
       "    <tr>\n",
       "      <th>68</th>\n",
       "      <td>Canada</td>\n",
       "      <td>31358857</td>\n",
       "    </tr>\n",
       "  </tbody>\n",
       "</table>\n",
       "</div>"
      ],
      "text/plain": [
       "                               Country  Total_Deaths\n",
       "54            United States of America     353413616\n",
       "136                 Russian Federation     247516071\n",
       "75                               Japan     140261484\n",
       "71                              Brazil     123306019\n",
       "95                      United Kingdom     104489404\n",
       "93   United Kingdom, England and Wales      93869081\n",
       "135                       USSR, Former      93459999\n",
       "35                               Italy      90188454\n",
       "10                              France      87232829\n",
       "138                            Ukraine      83472787\n",
       "56                              Mexico      68170399\n",
       "64    Germany, Former Federal Republic      64311700\n",
       "101                            Germany      62595994\n",
       "130                              China      60861376\n",
       "39                               Spain      54446428\n",
       "78                              Poland      45021394\n",
       "86                               Egypt      41252414\n",
       "46                            Thailand      39717667\n",
       "82                             Romania      32531264\n",
       "68                              Canada      31358857"
      ]
     },
     "execution_count": 36,
     "metadata": {},
     "output_type": "execute_result"
    }
   ],
   "source": [
    "deaths_grouped"
   ]
  },
  {
   "cell_type": "markdown",
   "metadata": {},
   "source": [
    "### Total Aggregated Deaths by Country from 1995 to 2022"
   ]
  },
  {
   "cell_type": "code",
   "execution_count": 37,
   "metadata": {},
   "outputs": [
    {
     "data": {
      "application/vnd.plotly.v1+json": {
       "config": {
        "plotlyServerURL": "https://plot.ly"
       },
       "data": [
        {
         "alignmentgroup": "True",
         "hovertemplate": "Country=%{x}<br>Total_Deaths=%{y}<extra></extra>",
         "legendgroup": "",
         "marker": {
          "color": "#494623",
          "pattern": {
           "shape": ""
          }
         },
         "name": "",
         "offsetgroup": "",
         "orientation": "v",
         "showlegend": false,
         "textposition": "outside",
         "texttemplate": "%{text:.4s}",
         "type": "bar",
         "x": [
          "United States of America",
          "Russian Federation",
          "Japan",
          "Brazil",
          "United Kingdom",
          "United Kingdom, England and Wales",
          "USSR, Former",
          "Italy",
          "France",
          "Ukraine",
          "Mexico",
          "Germany, Former Federal Republic",
          "Germany",
          "China",
          "Spain",
          "Poland",
          "Egypt",
          "Thailand",
          "Romania",
          "Canada"
         ],
         "xaxis": "x",
         "y": [
          353413616,
          247516071,
          140261484,
          123306019,
          104489404,
          93869081,
          93459999,
          90188454,
          87232829,
          83472787,
          68170399,
          64311700,
          62595994,
          60861376,
          54446428,
          45021394,
          41252414,
          39717667,
          32531264,
          31358857
         ],
         "yaxis": "y"
        }
       ],
       "layout": {
        "barmode": "relative",
        "legend": {
         "tracegroupgap": 0
        },
        "template": {
         "data": {
          "bar": [
           {
            "error_x": {
             "color": "#2a3f5f"
            },
            "error_y": {
             "color": "#2a3f5f"
            },
            "marker": {
             "line": {
              "color": "#E5ECF6",
              "width": 0.5
             },
             "pattern": {
              "fillmode": "overlay",
              "size": 10,
              "solidity": 0.2
             }
            },
            "type": "bar"
           }
          ],
          "barpolar": [
           {
            "marker": {
             "line": {
              "color": "#E5ECF6",
              "width": 0.5
             },
             "pattern": {
              "fillmode": "overlay",
              "size": 10,
              "solidity": 0.2
             }
            },
            "type": "barpolar"
           }
          ],
          "carpet": [
           {
            "aaxis": {
             "endlinecolor": "#2a3f5f",
             "gridcolor": "white",
             "linecolor": "white",
             "minorgridcolor": "white",
             "startlinecolor": "#2a3f5f"
            },
            "baxis": {
             "endlinecolor": "#2a3f5f",
             "gridcolor": "white",
             "linecolor": "white",
             "minorgridcolor": "white",
             "startlinecolor": "#2a3f5f"
            },
            "type": "carpet"
           }
          ],
          "choropleth": [
           {
            "colorbar": {
             "outlinewidth": 0,
             "ticks": ""
            },
            "type": "choropleth"
           }
          ],
          "contour": [
           {
            "colorbar": {
             "outlinewidth": 0,
             "ticks": ""
            },
            "colorscale": [
             [
              0,
              "#0d0887"
             ],
             [
              0.1111111111111111,
              "#46039f"
             ],
             [
              0.2222222222222222,
              "#7201a8"
             ],
             [
              0.3333333333333333,
              "#9c179e"
             ],
             [
              0.4444444444444444,
              "#bd3786"
             ],
             [
              0.5555555555555556,
              "#d8576b"
             ],
             [
              0.6666666666666666,
              "#ed7953"
             ],
             [
              0.7777777777777778,
              "#fb9f3a"
             ],
             [
              0.8888888888888888,
              "#fdca26"
             ],
             [
              1,
              "#f0f921"
             ]
            ],
            "type": "contour"
           }
          ],
          "contourcarpet": [
           {
            "colorbar": {
             "outlinewidth": 0,
             "ticks": ""
            },
            "type": "contourcarpet"
           }
          ],
          "heatmap": [
           {
            "colorbar": {
             "outlinewidth": 0,
             "ticks": ""
            },
            "colorscale": [
             [
              0,
              "#0d0887"
             ],
             [
              0.1111111111111111,
              "#46039f"
             ],
             [
              0.2222222222222222,
              "#7201a8"
             ],
             [
              0.3333333333333333,
              "#9c179e"
             ],
             [
              0.4444444444444444,
              "#bd3786"
             ],
             [
              0.5555555555555556,
              "#d8576b"
             ],
             [
              0.6666666666666666,
              "#ed7953"
             ],
             [
              0.7777777777777778,
              "#fb9f3a"
             ],
             [
              0.8888888888888888,
              "#fdca26"
             ],
             [
              1,
              "#f0f921"
             ]
            ],
            "type": "heatmap"
           }
          ],
          "heatmapgl": [
           {
            "colorbar": {
             "outlinewidth": 0,
             "ticks": ""
            },
            "colorscale": [
             [
              0,
              "#0d0887"
             ],
             [
              0.1111111111111111,
              "#46039f"
             ],
             [
              0.2222222222222222,
              "#7201a8"
             ],
             [
              0.3333333333333333,
              "#9c179e"
             ],
             [
              0.4444444444444444,
              "#bd3786"
             ],
             [
              0.5555555555555556,
              "#d8576b"
             ],
             [
              0.6666666666666666,
              "#ed7953"
             ],
             [
              0.7777777777777778,
              "#fb9f3a"
             ],
             [
              0.8888888888888888,
              "#fdca26"
             ],
             [
              1,
              "#f0f921"
             ]
            ],
            "type": "heatmapgl"
           }
          ],
          "histogram": [
           {
            "marker": {
             "pattern": {
              "fillmode": "overlay",
              "size": 10,
              "solidity": 0.2
             }
            },
            "type": "histogram"
           }
          ],
          "histogram2d": [
           {
            "colorbar": {
             "outlinewidth": 0,
             "ticks": ""
            },
            "colorscale": [
             [
              0,
              "#0d0887"
             ],
             [
              0.1111111111111111,
              "#46039f"
             ],
             [
              0.2222222222222222,
              "#7201a8"
             ],
             [
              0.3333333333333333,
              "#9c179e"
             ],
             [
              0.4444444444444444,
              "#bd3786"
             ],
             [
              0.5555555555555556,
              "#d8576b"
             ],
             [
              0.6666666666666666,
              "#ed7953"
             ],
             [
              0.7777777777777778,
              "#fb9f3a"
             ],
             [
              0.8888888888888888,
              "#fdca26"
             ],
             [
              1,
              "#f0f921"
             ]
            ],
            "type": "histogram2d"
           }
          ],
          "histogram2dcontour": [
           {
            "colorbar": {
             "outlinewidth": 0,
             "ticks": ""
            },
            "colorscale": [
             [
              0,
              "#0d0887"
             ],
             [
              0.1111111111111111,
              "#46039f"
             ],
             [
              0.2222222222222222,
              "#7201a8"
             ],
             [
              0.3333333333333333,
              "#9c179e"
             ],
             [
              0.4444444444444444,
              "#bd3786"
             ],
             [
              0.5555555555555556,
              "#d8576b"
             ],
             [
              0.6666666666666666,
              "#ed7953"
             ],
             [
              0.7777777777777778,
              "#fb9f3a"
             ],
             [
              0.8888888888888888,
              "#fdca26"
             ],
             [
              1,
              "#f0f921"
             ]
            ],
            "type": "histogram2dcontour"
           }
          ],
          "mesh3d": [
           {
            "colorbar": {
             "outlinewidth": 0,
             "ticks": ""
            },
            "type": "mesh3d"
           }
          ],
          "parcoords": [
           {
            "line": {
             "colorbar": {
              "outlinewidth": 0,
              "ticks": ""
             }
            },
            "type": "parcoords"
           }
          ],
          "pie": [
           {
            "automargin": true,
            "type": "pie"
           }
          ],
          "scatter": [
           {
            "fillpattern": {
             "fillmode": "overlay",
             "size": 10,
             "solidity": 0.2
            },
            "type": "scatter"
           }
          ],
          "scatter3d": [
           {
            "line": {
             "colorbar": {
              "outlinewidth": 0,
              "ticks": ""
             }
            },
            "marker": {
             "colorbar": {
              "outlinewidth": 0,
              "ticks": ""
             }
            },
            "type": "scatter3d"
           }
          ],
          "scattercarpet": [
           {
            "marker": {
             "colorbar": {
              "outlinewidth": 0,
              "ticks": ""
             }
            },
            "type": "scattercarpet"
           }
          ],
          "scattergeo": [
           {
            "marker": {
             "colorbar": {
              "outlinewidth": 0,
              "ticks": ""
             }
            },
            "type": "scattergeo"
           }
          ],
          "scattergl": [
           {
            "marker": {
             "colorbar": {
              "outlinewidth": 0,
              "ticks": ""
             }
            },
            "type": "scattergl"
           }
          ],
          "scattermapbox": [
           {
            "marker": {
             "colorbar": {
              "outlinewidth": 0,
              "ticks": ""
             }
            },
            "type": "scattermapbox"
           }
          ],
          "scatterpolar": [
           {
            "marker": {
             "colorbar": {
              "outlinewidth": 0,
              "ticks": ""
             }
            },
            "type": "scatterpolar"
           }
          ],
          "scatterpolargl": [
           {
            "marker": {
             "colorbar": {
              "outlinewidth": 0,
              "ticks": ""
             }
            },
            "type": "scatterpolargl"
           }
          ],
          "scatterternary": [
           {
            "marker": {
             "colorbar": {
              "outlinewidth": 0,
              "ticks": ""
             }
            },
            "type": "scatterternary"
           }
          ],
          "surface": [
           {
            "colorbar": {
             "outlinewidth": 0,
             "ticks": ""
            },
            "colorscale": [
             [
              0,
              "#0d0887"
             ],
             [
              0.1111111111111111,
              "#46039f"
             ],
             [
              0.2222222222222222,
              "#7201a8"
             ],
             [
              0.3333333333333333,
              "#9c179e"
             ],
             [
              0.4444444444444444,
              "#bd3786"
             ],
             [
              0.5555555555555556,
              "#d8576b"
             ],
             [
              0.6666666666666666,
              "#ed7953"
             ],
             [
              0.7777777777777778,
              "#fb9f3a"
             ],
             [
              0.8888888888888888,
              "#fdca26"
             ],
             [
              1,
              "#f0f921"
             ]
            ],
            "type": "surface"
           }
          ],
          "table": [
           {
            "cells": {
             "fill": {
              "color": "#EBF0F8"
             },
             "line": {
              "color": "white"
             }
            },
            "header": {
             "fill": {
              "color": "#C8D4E3"
             },
             "line": {
              "color": "white"
             }
            },
            "type": "table"
           }
          ]
         },
         "layout": {
          "annotationdefaults": {
           "arrowcolor": "#2a3f5f",
           "arrowhead": 0,
           "arrowwidth": 1
          },
          "autotypenumbers": "strict",
          "coloraxis": {
           "colorbar": {
            "outlinewidth": 0,
            "ticks": ""
           }
          },
          "colorscale": {
           "diverging": [
            [
             0,
             "#8e0152"
            ],
            [
             0.1,
             "#c51b7d"
            ],
            [
             0.2,
             "#de77ae"
            ],
            [
             0.3,
             "#f1b6da"
            ],
            [
             0.4,
             "#fde0ef"
            ],
            [
             0.5,
             "#f7f7f7"
            ],
            [
             0.6,
             "#e6f5d0"
            ],
            [
             0.7,
             "#b8e186"
            ],
            [
             0.8,
             "#7fbc41"
            ],
            [
             0.9,
             "#4d9221"
            ],
            [
             1,
             "#276419"
            ]
           ],
           "sequential": [
            [
             0,
             "#0d0887"
            ],
            [
             0.1111111111111111,
             "#46039f"
            ],
            [
             0.2222222222222222,
             "#7201a8"
            ],
            [
             0.3333333333333333,
             "#9c179e"
            ],
            [
             0.4444444444444444,
             "#bd3786"
            ],
            [
             0.5555555555555556,
             "#d8576b"
            ],
            [
             0.6666666666666666,
             "#ed7953"
            ],
            [
             0.7777777777777778,
             "#fb9f3a"
            ],
            [
             0.8888888888888888,
             "#fdca26"
            ],
            [
             1,
             "#f0f921"
            ]
           ],
           "sequentialminus": [
            [
             0,
             "#0d0887"
            ],
            [
             0.1111111111111111,
             "#46039f"
            ],
            [
             0.2222222222222222,
             "#7201a8"
            ],
            [
             0.3333333333333333,
             "#9c179e"
            ],
            [
             0.4444444444444444,
             "#bd3786"
            ],
            [
             0.5555555555555556,
             "#d8576b"
            ],
            [
             0.6666666666666666,
             "#ed7953"
            ],
            [
             0.7777777777777778,
             "#fb9f3a"
            ],
            [
             0.8888888888888888,
             "#fdca26"
            ],
            [
             1,
             "#f0f921"
            ]
           ]
          },
          "colorway": [
           "#636efa",
           "#EF553B",
           "#00cc96",
           "#ab63fa",
           "#FFA15A",
           "#19d3f3",
           "#FF6692",
           "#B6E880",
           "#FF97FF",
           "#FECB52"
          ],
          "font": {
           "color": "#2a3f5f"
          },
          "geo": {
           "bgcolor": "white",
           "lakecolor": "white",
           "landcolor": "#E5ECF6",
           "showlakes": true,
           "showland": true,
           "subunitcolor": "white"
          },
          "hoverlabel": {
           "align": "left"
          },
          "hovermode": "closest",
          "mapbox": {
           "style": "light"
          },
          "paper_bgcolor": "white",
          "plot_bgcolor": "#E5ECF6",
          "polar": {
           "angularaxis": {
            "gridcolor": "white",
            "linecolor": "white",
            "ticks": ""
           },
           "bgcolor": "#E5ECF6",
           "radialaxis": {
            "gridcolor": "white",
            "linecolor": "white",
            "ticks": ""
           }
          },
          "scene": {
           "xaxis": {
            "backgroundcolor": "#E5ECF6",
            "gridcolor": "white",
            "gridwidth": 2,
            "linecolor": "white",
            "showbackground": true,
            "ticks": "",
            "zerolinecolor": "white"
           },
           "yaxis": {
            "backgroundcolor": "#E5ECF6",
            "gridcolor": "white",
            "gridwidth": 2,
            "linecolor": "white",
            "showbackground": true,
            "ticks": "",
            "zerolinecolor": "white"
           },
           "zaxis": {
            "backgroundcolor": "#E5ECF6",
            "gridcolor": "white",
            "gridwidth": 2,
            "linecolor": "white",
            "showbackground": true,
            "ticks": "",
            "zerolinecolor": "white"
           }
          },
          "shapedefaults": {
           "line": {
            "color": "#2a3f5f"
           }
          },
          "ternary": {
           "aaxis": {
            "gridcolor": "white",
            "linecolor": "white",
            "ticks": ""
           },
           "baxis": {
            "gridcolor": "white",
            "linecolor": "white",
            "ticks": ""
           },
           "bgcolor": "#E5ECF6",
           "caxis": {
            "gridcolor": "white",
            "linecolor": "white",
            "ticks": ""
           }
          },
          "title": {
           "x": 0.05
          },
          "xaxis": {
           "automargin": true,
           "gridcolor": "white",
           "linecolor": "white",
           "ticks": "",
           "title": {
            "standoff": 15
           },
           "zerolinecolor": "white",
           "zerolinewidth": 2
          },
          "yaxis": {
           "automargin": true,
           "gridcolor": "white",
           "linecolor": "white",
           "ticks": "",
           "title": {
            "standoff": 15
           },
           "zerolinecolor": "white",
           "zerolinewidth": 2
          }
         }
        },
        "title": {
         "text": "Total Aggregated Deaths by Count from 1995 to 2022"
        },
        "uniformtext": {
         "minsize": 10,
         "mode": "hide"
        },
        "xaxis": {
         "anchor": "y",
         "domain": [
          0,
          1
         ],
         "title": {
          "text": "Country"
         }
        },
        "yaxis": {
         "anchor": "x",
         "domain": [
          0,
          1
         ],
         "title": {
          "text": "Total_Deaths"
         }
        }
       }
      }
     },
     "metadata": {},
     "output_type": "display_data"
    }
   ],
   "source": [
    "import plotly.express as px\n",
    "color_discrete_sequence = ['#494623'] * len(deaths_grouped)\n",
    "fig = px.bar(deaths_grouped, x = deaths_grouped['Country'], y = deaths_grouped['Total_Deaths'], title = 'Total Aggregated Deaths by Count from 1995 to 2022',\n",
    "            color_discrete_sequence = color_discrete_sequence)\n",
    "fig.update_traces(texttemplate = '%{text:.4s}', textposition = 'outside')\n",
    "fig.update_layout(uniformtext_minsize = 10, uniformtext_mode = 'hide' )\n",
    "fig.show()"
   ]
  },
  {
   "cell_type": "markdown",
   "metadata": {},
   "source": [
    "#### Merging Russian federation and USSR, Former"
   ]
  },
  {
   "cell_type": "code",
   "execution_count": 38,
   "metadata": {},
   "outputs": [
    {
     "data": {
      "text/plain": [
       "340976070"
      ]
     },
     "execution_count": 38,
     "metadata": {},
     "output_type": "execute_result"
    }
   ],
   "source": [
    "deaths_grouped_RI = deaths_grouped.reset_index(drop = True)\n",
    "Russia = deaths_grouped_RI.loc[deaths_grouped_RI['Country'].isin(['Russian Federation', 'USSR, Former'])]\n",
    "Russia.Total_Deaths.sum()"
   ]
  },
  {
   "cell_type": "code",
   "execution_count": 39,
   "metadata": {},
   "outputs": [],
   "source": [
    "deaths_grouped_RI.loc[len(deaths_grouped_RI.index)] = [\"Russia\", 340976070]"
   ]
  },
  {
   "cell_type": "markdown",
   "metadata": {},
   "source": [
    "#### Drop specific rows"
   ]
  },
  {
   "cell_type": "code",
   "execution_count": 40,
   "metadata": {},
   "outputs": [],
   "source": [
    "Countries = ['Russian Federation', 'USSR, Former']\n",
    "# drop rows from above list\n",
    "deaths_grouped_RI = deaths_grouped_RI[deaths_grouped_RI.Country.isin(Countries) == False]"
   ]
  },
  {
   "cell_type": "code",
   "execution_count": 41,
   "metadata": {},
   "outputs": [
    {
     "data": {
      "text/html": [
       "<div>\n",
       "<style scoped>\n",
       "    .dataframe tbody tr th:only-of-type {\n",
       "        vertical-align: middle;\n",
       "    }\n",
       "\n",
       "    .dataframe tbody tr th {\n",
       "        vertical-align: top;\n",
       "    }\n",
       "\n",
       "    .dataframe thead th {\n",
       "        text-align: right;\n",
       "    }\n",
       "</style>\n",
       "<table border=\"1\" class=\"dataframe\">\n",
       "  <thead>\n",
       "    <tr style=\"text-align: right;\">\n",
       "      <th></th>\n",
       "      <th>Country</th>\n",
       "      <th>Total_Deaths</th>\n",
       "    </tr>\n",
       "  </thead>\n",
       "  <tbody>\n",
       "    <tr>\n",
       "      <th>0</th>\n",
       "      <td>United States of America</td>\n",
       "      <td>353413616</td>\n",
       "    </tr>\n",
       "    <tr>\n",
       "      <th>2</th>\n",
       "      <td>Japan</td>\n",
       "      <td>140261484</td>\n",
       "    </tr>\n",
       "    <tr>\n",
       "      <th>3</th>\n",
       "      <td>Brazil</td>\n",
       "      <td>123306019</td>\n",
       "    </tr>\n",
       "    <tr>\n",
       "      <th>4</th>\n",
       "      <td>United Kingdom</td>\n",
       "      <td>104489404</td>\n",
       "    </tr>\n",
       "    <tr>\n",
       "      <th>5</th>\n",
       "      <td>United Kingdom, England and Wales</td>\n",
       "      <td>93869081</td>\n",
       "    </tr>\n",
       "    <tr>\n",
       "      <th>7</th>\n",
       "      <td>Italy</td>\n",
       "      <td>90188454</td>\n",
       "    </tr>\n",
       "    <tr>\n",
       "      <th>8</th>\n",
       "      <td>France</td>\n",
       "      <td>87232829</td>\n",
       "    </tr>\n",
       "    <tr>\n",
       "      <th>9</th>\n",
       "      <td>Ukraine</td>\n",
       "      <td>83472787</td>\n",
       "    </tr>\n",
       "    <tr>\n",
       "      <th>10</th>\n",
       "      <td>Mexico</td>\n",
       "      <td>68170399</td>\n",
       "    </tr>\n",
       "    <tr>\n",
       "      <th>11</th>\n",
       "      <td>Germany, Former Federal Republic</td>\n",
       "      <td>64311700</td>\n",
       "    </tr>\n",
       "    <tr>\n",
       "      <th>12</th>\n",
       "      <td>Germany</td>\n",
       "      <td>62595994</td>\n",
       "    </tr>\n",
       "    <tr>\n",
       "      <th>13</th>\n",
       "      <td>China</td>\n",
       "      <td>60861376</td>\n",
       "    </tr>\n",
       "    <tr>\n",
       "      <th>14</th>\n",
       "      <td>Spain</td>\n",
       "      <td>54446428</td>\n",
       "    </tr>\n",
       "    <tr>\n",
       "      <th>15</th>\n",
       "      <td>Poland</td>\n",
       "      <td>45021394</td>\n",
       "    </tr>\n",
       "    <tr>\n",
       "      <th>16</th>\n",
       "      <td>Egypt</td>\n",
       "      <td>41252414</td>\n",
       "    </tr>\n",
       "    <tr>\n",
       "      <th>17</th>\n",
       "      <td>Thailand</td>\n",
       "      <td>39717667</td>\n",
       "    </tr>\n",
       "    <tr>\n",
       "      <th>18</th>\n",
       "      <td>Romania</td>\n",
       "      <td>32531264</td>\n",
       "    </tr>\n",
       "    <tr>\n",
       "      <th>19</th>\n",
       "      <td>Canada</td>\n",
       "      <td>31358857</td>\n",
       "    </tr>\n",
       "    <tr>\n",
       "      <th>20</th>\n",
       "      <td>Russia</td>\n",
       "      <td>340976070</td>\n",
       "    </tr>\n",
       "  </tbody>\n",
       "</table>\n",
       "</div>"
      ],
      "text/plain": [
       "                              Country  Total_Deaths\n",
       "0            United States of America     353413616\n",
       "2                               Japan     140261484\n",
       "3                              Brazil     123306019\n",
       "4                      United Kingdom     104489404\n",
       "5   United Kingdom, England and Wales      93869081\n",
       "7                               Italy      90188454\n",
       "8                              France      87232829\n",
       "9                             Ukraine      83472787\n",
       "10                             Mexico      68170399\n",
       "11   Germany, Former Federal Republic      64311700\n",
       "12                            Germany      62595994\n",
       "13                              China      60861376\n",
       "14                              Spain      54446428\n",
       "15                             Poland      45021394\n",
       "16                              Egypt      41252414\n",
       "17                           Thailand      39717667\n",
       "18                            Romania      32531264\n",
       "19                             Canada      31358857\n",
       "20                             Russia     340976070"
      ]
     },
     "execution_count": 41,
     "metadata": {},
     "output_type": "execute_result"
    }
   ],
   "source": [
    "deaths_grouped_RI"
   ]
  },
  {
   "cell_type": "code",
   "execution_count": 42,
   "metadata": {},
   "outputs": [
    {
     "data": {
      "text/html": [
       "<div>\n",
       "<style scoped>\n",
       "    .dataframe tbody tr th:only-of-type {\n",
       "        vertical-align: middle;\n",
       "    }\n",
       "\n",
       "    .dataframe tbody tr th {\n",
       "        vertical-align: top;\n",
       "    }\n",
       "\n",
       "    .dataframe thead th {\n",
       "        text-align: right;\n",
       "    }\n",
       "</style>\n",
       "<table border=\"1\" class=\"dataframe\">\n",
       "  <thead>\n",
       "    <tr style=\"text-align: right;\">\n",
       "      <th></th>\n",
       "      <th>Country</th>\n",
       "      <th>Total_Deaths</th>\n",
       "    </tr>\n",
       "  </thead>\n",
       "  <tbody>\n",
       "    <tr>\n",
       "      <th>0</th>\n",
       "      <td>United States of America</td>\n",
       "      <td>353413616</td>\n",
       "    </tr>\n",
       "    <tr>\n",
       "      <th>20</th>\n",
       "      <td>Russia</td>\n",
       "      <td>340976070</td>\n",
       "    </tr>\n",
       "    <tr>\n",
       "      <th>2</th>\n",
       "      <td>Japan</td>\n",
       "      <td>140261484</td>\n",
       "    </tr>\n",
       "    <tr>\n",
       "      <th>3</th>\n",
       "      <td>Brazil</td>\n",
       "      <td>123306019</td>\n",
       "    </tr>\n",
       "    <tr>\n",
       "      <th>4</th>\n",
       "      <td>United Kingdom</td>\n",
       "      <td>104489404</td>\n",
       "    </tr>\n",
       "    <tr>\n",
       "      <th>5</th>\n",
       "      <td>United Kingdom, England and Wales</td>\n",
       "      <td>93869081</td>\n",
       "    </tr>\n",
       "    <tr>\n",
       "      <th>7</th>\n",
       "      <td>Italy</td>\n",
       "      <td>90188454</td>\n",
       "    </tr>\n",
       "    <tr>\n",
       "      <th>8</th>\n",
       "      <td>France</td>\n",
       "      <td>87232829</td>\n",
       "    </tr>\n",
       "    <tr>\n",
       "      <th>9</th>\n",
       "      <td>Ukraine</td>\n",
       "      <td>83472787</td>\n",
       "    </tr>\n",
       "    <tr>\n",
       "      <th>10</th>\n",
       "      <td>Mexico</td>\n",
       "      <td>68170399</td>\n",
       "    </tr>\n",
       "    <tr>\n",
       "      <th>11</th>\n",
       "      <td>Germany, Former Federal Republic</td>\n",
       "      <td>64311700</td>\n",
       "    </tr>\n",
       "    <tr>\n",
       "      <th>12</th>\n",
       "      <td>Germany</td>\n",
       "      <td>62595994</td>\n",
       "    </tr>\n",
       "    <tr>\n",
       "      <th>13</th>\n",
       "      <td>China</td>\n",
       "      <td>60861376</td>\n",
       "    </tr>\n",
       "    <tr>\n",
       "      <th>14</th>\n",
       "      <td>Spain</td>\n",
       "      <td>54446428</td>\n",
       "    </tr>\n",
       "    <tr>\n",
       "      <th>15</th>\n",
       "      <td>Poland</td>\n",
       "      <td>45021394</td>\n",
       "    </tr>\n",
       "    <tr>\n",
       "      <th>16</th>\n",
       "      <td>Egypt</td>\n",
       "      <td>41252414</td>\n",
       "    </tr>\n",
       "    <tr>\n",
       "      <th>17</th>\n",
       "      <td>Thailand</td>\n",
       "      <td>39717667</td>\n",
       "    </tr>\n",
       "    <tr>\n",
       "      <th>18</th>\n",
       "      <td>Romania</td>\n",
       "      <td>32531264</td>\n",
       "    </tr>\n",
       "    <tr>\n",
       "      <th>19</th>\n",
       "      <td>Canada</td>\n",
       "      <td>31358857</td>\n",
       "    </tr>\n",
       "  </tbody>\n",
       "</table>\n",
       "</div>"
      ],
      "text/plain": [
       "                              Country  Total_Deaths\n",
       "0            United States of America     353413616\n",
       "20                             Russia     340976070\n",
       "2                               Japan     140261484\n",
       "3                              Brazil     123306019\n",
       "4                      United Kingdom     104489404\n",
       "5   United Kingdom, England and Wales      93869081\n",
       "7                               Italy      90188454\n",
       "8                              France      87232829\n",
       "9                             Ukraine      83472787\n",
       "10                             Mexico      68170399\n",
       "11   Germany, Former Federal Republic      64311700\n",
       "12                            Germany      62595994\n",
       "13                              China      60861376\n",
       "14                              Spain      54446428\n",
       "15                             Poland      45021394\n",
       "16                              Egypt      41252414\n",
       "17                           Thailand      39717667\n",
       "18                            Romania      32531264\n",
       "19                             Canada      31358857"
      ]
     },
     "execution_count": 42,
     "metadata": {},
     "output_type": "execute_result"
    }
   ],
   "source": [
    "deaths_grouped_RU = deaths_grouped_RI.sort_values(by = 'Total_Deaths', ascending = False)\n",
    "deaths_grouped_RU"
   ]
  },
  {
   "cell_type": "markdown",
   "metadata": {},
   "source": [
    "### Total Aggregated Deaths by Country from 1995 to 2020 [Russia Merged]"
   ]
  },
  {
   "cell_type": "code",
   "execution_count": 43,
   "metadata": {},
   "outputs": [
    {
     "data": {
      "application/vnd.plotly.v1+json": {
       "config": {
        "plotlyServerURL": "https://plot.ly"
       },
       "data": [
        {
         "alignmentgroup": "True",
         "hovertemplate": "Country=%{x}<br>Total_Deaths=%{y}<extra></extra>",
         "legendgroup": "",
         "marker": {
          "color": "#8e883d",
          "pattern": {
           "shape": ""
          }
         },
         "name": "",
         "offsetgroup": "",
         "orientation": "v",
         "showlegend": false,
         "textposition": "outside",
         "texttemplate": "%{text:.4s}",
         "type": "bar",
         "x": [
          "United States of America",
          "Russia",
          "Japan",
          "Brazil",
          "United Kingdom",
          "United Kingdom, England and Wales",
          "Italy",
          "France",
          "Ukraine",
          "Mexico",
          "Germany, Former Federal Republic",
          "Germany",
          "China",
          "Spain",
          "Poland",
          "Egypt",
          "Thailand",
          "Romania",
          "Canada"
         ],
         "xaxis": "x",
         "y": [
          353413616,
          340976070,
          140261484,
          123306019,
          104489404,
          93869081,
          90188454,
          87232829,
          83472787,
          68170399,
          64311700,
          62595994,
          60861376,
          54446428,
          45021394,
          41252414,
          39717667,
          32531264,
          31358857
         ],
         "yaxis": "y"
        }
       ],
       "layout": {
        "barmode": "relative",
        "legend": {
         "tracegroupgap": 0
        },
        "template": {
         "data": {
          "bar": [
           {
            "error_x": {
             "color": "#2a3f5f"
            },
            "error_y": {
             "color": "#2a3f5f"
            },
            "marker": {
             "line": {
              "color": "#E5ECF6",
              "width": 0.5
             },
             "pattern": {
              "fillmode": "overlay",
              "size": 10,
              "solidity": 0.2
             }
            },
            "type": "bar"
           }
          ],
          "barpolar": [
           {
            "marker": {
             "line": {
              "color": "#E5ECF6",
              "width": 0.5
             },
             "pattern": {
              "fillmode": "overlay",
              "size": 10,
              "solidity": 0.2
             }
            },
            "type": "barpolar"
           }
          ],
          "carpet": [
           {
            "aaxis": {
             "endlinecolor": "#2a3f5f",
             "gridcolor": "white",
             "linecolor": "white",
             "minorgridcolor": "white",
             "startlinecolor": "#2a3f5f"
            },
            "baxis": {
             "endlinecolor": "#2a3f5f",
             "gridcolor": "white",
             "linecolor": "white",
             "minorgridcolor": "white",
             "startlinecolor": "#2a3f5f"
            },
            "type": "carpet"
           }
          ],
          "choropleth": [
           {
            "colorbar": {
             "outlinewidth": 0,
             "ticks": ""
            },
            "type": "choropleth"
           }
          ],
          "contour": [
           {
            "colorbar": {
             "outlinewidth": 0,
             "ticks": ""
            },
            "colorscale": [
             [
              0,
              "#0d0887"
             ],
             [
              0.1111111111111111,
              "#46039f"
             ],
             [
              0.2222222222222222,
              "#7201a8"
             ],
             [
              0.3333333333333333,
              "#9c179e"
             ],
             [
              0.4444444444444444,
              "#bd3786"
             ],
             [
              0.5555555555555556,
              "#d8576b"
             ],
             [
              0.6666666666666666,
              "#ed7953"
             ],
             [
              0.7777777777777778,
              "#fb9f3a"
             ],
             [
              0.8888888888888888,
              "#fdca26"
             ],
             [
              1,
              "#f0f921"
             ]
            ],
            "type": "contour"
           }
          ],
          "contourcarpet": [
           {
            "colorbar": {
             "outlinewidth": 0,
             "ticks": ""
            },
            "type": "contourcarpet"
           }
          ],
          "heatmap": [
           {
            "colorbar": {
             "outlinewidth": 0,
             "ticks": ""
            },
            "colorscale": [
             [
              0,
              "#0d0887"
             ],
             [
              0.1111111111111111,
              "#46039f"
             ],
             [
              0.2222222222222222,
              "#7201a8"
             ],
             [
              0.3333333333333333,
              "#9c179e"
             ],
             [
              0.4444444444444444,
              "#bd3786"
             ],
             [
              0.5555555555555556,
              "#d8576b"
             ],
             [
              0.6666666666666666,
              "#ed7953"
             ],
             [
              0.7777777777777778,
              "#fb9f3a"
             ],
             [
              0.8888888888888888,
              "#fdca26"
             ],
             [
              1,
              "#f0f921"
             ]
            ],
            "type": "heatmap"
           }
          ],
          "heatmapgl": [
           {
            "colorbar": {
             "outlinewidth": 0,
             "ticks": ""
            },
            "colorscale": [
             [
              0,
              "#0d0887"
             ],
             [
              0.1111111111111111,
              "#46039f"
             ],
             [
              0.2222222222222222,
              "#7201a8"
             ],
             [
              0.3333333333333333,
              "#9c179e"
             ],
             [
              0.4444444444444444,
              "#bd3786"
             ],
             [
              0.5555555555555556,
              "#d8576b"
             ],
             [
              0.6666666666666666,
              "#ed7953"
             ],
             [
              0.7777777777777778,
              "#fb9f3a"
             ],
             [
              0.8888888888888888,
              "#fdca26"
             ],
             [
              1,
              "#f0f921"
             ]
            ],
            "type": "heatmapgl"
           }
          ],
          "histogram": [
           {
            "marker": {
             "pattern": {
              "fillmode": "overlay",
              "size": 10,
              "solidity": 0.2
             }
            },
            "type": "histogram"
           }
          ],
          "histogram2d": [
           {
            "colorbar": {
             "outlinewidth": 0,
             "ticks": ""
            },
            "colorscale": [
             [
              0,
              "#0d0887"
             ],
             [
              0.1111111111111111,
              "#46039f"
             ],
             [
              0.2222222222222222,
              "#7201a8"
             ],
             [
              0.3333333333333333,
              "#9c179e"
             ],
             [
              0.4444444444444444,
              "#bd3786"
             ],
             [
              0.5555555555555556,
              "#d8576b"
             ],
             [
              0.6666666666666666,
              "#ed7953"
             ],
             [
              0.7777777777777778,
              "#fb9f3a"
             ],
             [
              0.8888888888888888,
              "#fdca26"
             ],
             [
              1,
              "#f0f921"
             ]
            ],
            "type": "histogram2d"
           }
          ],
          "histogram2dcontour": [
           {
            "colorbar": {
             "outlinewidth": 0,
             "ticks": ""
            },
            "colorscale": [
             [
              0,
              "#0d0887"
             ],
             [
              0.1111111111111111,
              "#46039f"
             ],
             [
              0.2222222222222222,
              "#7201a8"
             ],
             [
              0.3333333333333333,
              "#9c179e"
             ],
             [
              0.4444444444444444,
              "#bd3786"
             ],
             [
              0.5555555555555556,
              "#d8576b"
             ],
             [
              0.6666666666666666,
              "#ed7953"
             ],
             [
              0.7777777777777778,
              "#fb9f3a"
             ],
             [
              0.8888888888888888,
              "#fdca26"
             ],
             [
              1,
              "#f0f921"
             ]
            ],
            "type": "histogram2dcontour"
           }
          ],
          "mesh3d": [
           {
            "colorbar": {
             "outlinewidth": 0,
             "ticks": ""
            },
            "type": "mesh3d"
           }
          ],
          "parcoords": [
           {
            "line": {
             "colorbar": {
              "outlinewidth": 0,
              "ticks": ""
             }
            },
            "type": "parcoords"
           }
          ],
          "pie": [
           {
            "automargin": true,
            "type": "pie"
           }
          ],
          "scatter": [
           {
            "fillpattern": {
             "fillmode": "overlay",
             "size": 10,
             "solidity": 0.2
            },
            "type": "scatter"
           }
          ],
          "scatter3d": [
           {
            "line": {
             "colorbar": {
              "outlinewidth": 0,
              "ticks": ""
             }
            },
            "marker": {
             "colorbar": {
              "outlinewidth": 0,
              "ticks": ""
             }
            },
            "type": "scatter3d"
           }
          ],
          "scattercarpet": [
           {
            "marker": {
             "colorbar": {
              "outlinewidth": 0,
              "ticks": ""
             }
            },
            "type": "scattercarpet"
           }
          ],
          "scattergeo": [
           {
            "marker": {
             "colorbar": {
              "outlinewidth": 0,
              "ticks": ""
             }
            },
            "type": "scattergeo"
           }
          ],
          "scattergl": [
           {
            "marker": {
             "colorbar": {
              "outlinewidth": 0,
              "ticks": ""
             }
            },
            "type": "scattergl"
           }
          ],
          "scattermapbox": [
           {
            "marker": {
             "colorbar": {
              "outlinewidth": 0,
              "ticks": ""
             }
            },
            "type": "scattermapbox"
           }
          ],
          "scatterpolar": [
           {
            "marker": {
             "colorbar": {
              "outlinewidth": 0,
              "ticks": ""
             }
            },
            "type": "scatterpolar"
           }
          ],
          "scatterpolargl": [
           {
            "marker": {
             "colorbar": {
              "outlinewidth": 0,
              "ticks": ""
             }
            },
            "type": "scatterpolargl"
           }
          ],
          "scatterternary": [
           {
            "marker": {
             "colorbar": {
              "outlinewidth": 0,
              "ticks": ""
             }
            },
            "type": "scatterternary"
           }
          ],
          "surface": [
           {
            "colorbar": {
             "outlinewidth": 0,
             "ticks": ""
            },
            "colorscale": [
             [
              0,
              "#0d0887"
             ],
             [
              0.1111111111111111,
              "#46039f"
             ],
             [
              0.2222222222222222,
              "#7201a8"
             ],
             [
              0.3333333333333333,
              "#9c179e"
             ],
             [
              0.4444444444444444,
              "#bd3786"
             ],
             [
              0.5555555555555556,
              "#d8576b"
             ],
             [
              0.6666666666666666,
              "#ed7953"
             ],
             [
              0.7777777777777778,
              "#fb9f3a"
             ],
             [
              0.8888888888888888,
              "#fdca26"
             ],
             [
              1,
              "#f0f921"
             ]
            ],
            "type": "surface"
           }
          ],
          "table": [
           {
            "cells": {
             "fill": {
              "color": "#EBF0F8"
             },
             "line": {
              "color": "white"
             }
            },
            "header": {
             "fill": {
              "color": "#C8D4E3"
             },
             "line": {
              "color": "white"
             }
            },
            "type": "table"
           }
          ]
         },
         "layout": {
          "annotationdefaults": {
           "arrowcolor": "#2a3f5f",
           "arrowhead": 0,
           "arrowwidth": 1
          },
          "autotypenumbers": "strict",
          "coloraxis": {
           "colorbar": {
            "outlinewidth": 0,
            "ticks": ""
           }
          },
          "colorscale": {
           "diverging": [
            [
             0,
             "#8e0152"
            ],
            [
             0.1,
             "#c51b7d"
            ],
            [
             0.2,
             "#de77ae"
            ],
            [
             0.3,
             "#f1b6da"
            ],
            [
             0.4,
             "#fde0ef"
            ],
            [
             0.5,
             "#f7f7f7"
            ],
            [
             0.6,
             "#e6f5d0"
            ],
            [
             0.7,
             "#b8e186"
            ],
            [
             0.8,
             "#7fbc41"
            ],
            [
             0.9,
             "#4d9221"
            ],
            [
             1,
             "#276419"
            ]
           ],
           "sequential": [
            [
             0,
             "#0d0887"
            ],
            [
             0.1111111111111111,
             "#46039f"
            ],
            [
             0.2222222222222222,
             "#7201a8"
            ],
            [
             0.3333333333333333,
             "#9c179e"
            ],
            [
             0.4444444444444444,
             "#bd3786"
            ],
            [
             0.5555555555555556,
             "#d8576b"
            ],
            [
             0.6666666666666666,
             "#ed7953"
            ],
            [
             0.7777777777777778,
             "#fb9f3a"
            ],
            [
             0.8888888888888888,
             "#fdca26"
            ],
            [
             1,
             "#f0f921"
            ]
           ],
           "sequentialminus": [
            [
             0,
             "#0d0887"
            ],
            [
             0.1111111111111111,
             "#46039f"
            ],
            [
             0.2222222222222222,
             "#7201a8"
            ],
            [
             0.3333333333333333,
             "#9c179e"
            ],
            [
             0.4444444444444444,
             "#bd3786"
            ],
            [
             0.5555555555555556,
             "#d8576b"
            ],
            [
             0.6666666666666666,
             "#ed7953"
            ],
            [
             0.7777777777777778,
             "#fb9f3a"
            ],
            [
             0.8888888888888888,
             "#fdca26"
            ],
            [
             1,
             "#f0f921"
            ]
           ]
          },
          "colorway": [
           "#636efa",
           "#EF553B",
           "#00cc96",
           "#ab63fa",
           "#FFA15A",
           "#19d3f3",
           "#FF6692",
           "#B6E880",
           "#FF97FF",
           "#FECB52"
          ],
          "font": {
           "color": "#2a3f5f"
          },
          "geo": {
           "bgcolor": "white",
           "lakecolor": "white",
           "landcolor": "#E5ECF6",
           "showlakes": true,
           "showland": true,
           "subunitcolor": "white"
          },
          "hoverlabel": {
           "align": "left"
          },
          "hovermode": "closest",
          "mapbox": {
           "style": "light"
          },
          "paper_bgcolor": "white",
          "plot_bgcolor": "#E5ECF6",
          "polar": {
           "angularaxis": {
            "gridcolor": "white",
            "linecolor": "white",
            "ticks": ""
           },
           "bgcolor": "#E5ECF6",
           "radialaxis": {
            "gridcolor": "white",
            "linecolor": "white",
            "ticks": ""
           }
          },
          "scene": {
           "xaxis": {
            "backgroundcolor": "#E5ECF6",
            "gridcolor": "white",
            "gridwidth": 2,
            "linecolor": "white",
            "showbackground": true,
            "ticks": "",
            "zerolinecolor": "white"
           },
           "yaxis": {
            "backgroundcolor": "#E5ECF6",
            "gridcolor": "white",
            "gridwidth": 2,
            "linecolor": "white",
            "showbackground": true,
            "ticks": "",
            "zerolinecolor": "white"
           },
           "zaxis": {
            "backgroundcolor": "#E5ECF6",
            "gridcolor": "white",
            "gridwidth": 2,
            "linecolor": "white",
            "showbackground": true,
            "ticks": "",
            "zerolinecolor": "white"
           }
          },
          "shapedefaults": {
           "line": {
            "color": "#2a3f5f"
           }
          },
          "ternary": {
           "aaxis": {
            "gridcolor": "white",
            "linecolor": "white",
            "ticks": ""
           },
           "baxis": {
            "gridcolor": "white",
            "linecolor": "white",
            "ticks": ""
           },
           "bgcolor": "#E5ECF6",
           "caxis": {
            "gridcolor": "white",
            "linecolor": "white",
            "ticks": ""
           }
          },
          "title": {
           "x": 0.05
          },
          "xaxis": {
           "automargin": true,
           "gridcolor": "white",
           "linecolor": "white",
           "ticks": "",
           "title": {
            "standoff": 15
           },
           "zerolinecolor": "white",
           "zerolinewidth": 2
          },
          "yaxis": {
           "automargin": true,
           "gridcolor": "white",
           "linecolor": "white",
           "ticks": "",
           "title": {
            "standoff": 15
           },
           "zerolinecolor": "white",
           "zerolinewidth": 2
          }
         }
        },
        "title": {
         "text": "Total Aggregated Deaths by Country from 1995 to 2022"
        },
        "uniformtext": {
         "minsize": 10,
         "mode": "hide"
        },
        "xaxis": {
         "anchor": "y",
         "domain": [
          0,
          1
         ],
         "title": {
          "text": "Country"
         }
        },
        "yaxis": {
         "anchor": "x",
         "domain": [
          0,
          1
         ],
         "title": {
          "text": "Total_Deaths"
         }
        }
       }
      }
     },
     "metadata": {},
     "output_type": "display_data"
    }
   ],
   "source": [
    "color_discrete_sequence = ['#8e883d'] * len(deaths_grouped)\n",
    "fig = px.bar(deaths_grouped_RU, x = deaths_grouped_RU['Country'], y = deaths_grouped_RU['Total_Deaths'], title = 'Total Aggregated Deaths by Country from 1995 to 2022',\n",
    "            color_discrete_sequence = color_discrete_sequence)\n",
    "fig.update_traces(texttemplate = '%{text:.4s}', textposition = 'outside')\n",
    "fig.update_layout(uniformtext_minsize = 10, uniformtext_mode = 'hide')\n",
    "fig.show()"
   ]
  },
  {
   "cell_type": "code",
   "execution_count": 44,
   "metadata": {},
   "outputs": [],
   "source": [
    "Top_Deaths = df_na_filled.filter('Deaths1 >= 1500000').select(['Country', 'Deaths1', 'Year'])"
   ]
  },
  {
   "cell_type": "code",
   "execution_count": 45,
   "metadata": {},
   "outputs": [
    {
     "name": "stdout",
     "output_type": "stream",
     "text": [
      "+--------------------+-------+----+\n",
      "|             Country|Deaths1|Year|\n",
      "+--------------------+-------+----+\n",
      "|        USSR, Former|1522673|1985|\n",
      "|        USSR, Former|1519174|1988|\n",
      "|        USSR, Former|1522769|1990|\n",
      "|United States of ...|1769884|2020|\n",
      "|United States of ...|1613845|2020|\n",
      "+--------------------+-------+----+\n",
      "\n"
     ]
    }
   ],
   "source": [
    "Top_Deaths.show()"
   ]
  },
  {
   "cell_type": "markdown",
   "metadata": {},
   "source": [
    "#### Show Spark dataframe in descending order"
   ]
  },
  {
   "cell_type": "code",
   "execution_count": 46,
   "metadata": {},
   "outputs": [],
   "source": [
    "top10deaths = Top_Deaths.sort(Top_Deaths.Deaths1.desc())\n",
    "top10deathsPDF = top10deaths.toPandas()"
   ]
  },
  {
   "cell_type": "markdown",
   "metadata": {},
   "source": [
    "### Plot the deaths greater than 1.5 million by year from 1955 to 2022"
   ]
  },
  {
   "cell_type": "code",
   "execution_count": 47,
   "metadata": {},
   "outputs": [
    {
     "data": {
      "text/html": [
       "<div>\n",
       "<style scoped>\n",
       "    .dataframe tbody tr th:only-of-type {\n",
       "        vertical-align: middle;\n",
       "    }\n",
       "\n",
       "    .dataframe tbody tr th {\n",
       "        vertical-align: top;\n",
       "    }\n",
       "\n",
       "    .dataframe thead th {\n",
       "        text-align: right;\n",
       "    }\n",
       "</style>\n",
       "<table border=\"1\" class=\"dataframe\">\n",
       "  <thead>\n",
       "    <tr style=\"text-align: right;\">\n",
       "      <th></th>\n",
       "      <th>Country</th>\n",
       "      <th>Deaths1</th>\n",
       "      <th>Year</th>\n",
       "    </tr>\n",
       "  </thead>\n",
       "  <tbody>\n",
       "    <tr>\n",
       "      <th>0</th>\n",
       "      <td>United States of America</td>\n",
       "      <td>1769884</td>\n",
       "      <td>2020</td>\n",
       "    </tr>\n",
       "    <tr>\n",
       "      <th>1</th>\n",
       "      <td>United States of America</td>\n",
       "      <td>1613845</td>\n",
       "      <td>2020</td>\n",
       "    </tr>\n",
       "    <tr>\n",
       "      <th>2</th>\n",
       "      <td>USSR, Former</td>\n",
       "      <td>1522769</td>\n",
       "      <td>1990</td>\n",
       "    </tr>\n",
       "    <tr>\n",
       "      <th>3</th>\n",
       "      <td>USSR, Former</td>\n",
       "      <td>1522673</td>\n",
       "      <td>1985</td>\n",
       "    </tr>\n",
       "    <tr>\n",
       "      <th>4</th>\n",
       "      <td>USSR, Former</td>\n",
       "      <td>1519174</td>\n",
       "      <td>1988</td>\n",
       "    </tr>\n",
       "  </tbody>\n",
       "</table>\n",
       "</div>"
      ],
      "text/plain": [
       "                    Country  Deaths1  Year\n",
       "0  United States of America  1769884  2020\n",
       "1  United States of America  1613845  2020\n",
       "2              USSR, Former  1522769  1990\n",
       "3              USSR, Former  1522673  1985\n",
       "4              USSR, Former  1519174  1988"
      ]
     },
     "execution_count": 47,
     "metadata": {},
     "output_type": "execute_result"
    }
   ],
   "source": [
    "top10deathsPDF"
   ]
  },
  {
   "cell_type": "markdown",
   "metadata": {},
   "source": [
    "### Deaths in USA by Year"
   ]
  },
  {
   "cell_type": "code",
   "execution_count": 48,
   "metadata": {},
   "outputs": [],
   "source": [
    "USA_Deaths = df_na_filled.filter(df_na_filled.Country == 'United States of America').select(['Year', 'Deaths1'])\n",
    "USA_DeathsPDF = USA_Deaths.toPandas()"
   ]
  },
  {
   "cell_type": "code",
   "execution_count": 49,
   "metadata": {},
   "outputs": [
    {
     "data": {
      "text/plain": [
       "Year       int32\n",
       "Deaths1    int32\n",
       "dtype: object"
      ]
     },
     "execution_count": 49,
     "metadata": {},
     "output_type": "execute_result"
    }
   ],
   "source": [
    "USA_DeathsPDF.dtypes"
   ]
  },
  {
   "cell_type": "code",
   "execution_count": 50,
   "metadata": {},
   "outputs": [],
   "source": [
    "USA_DeathsPDF = USA_DeathsPDF.groupby(['Year']).sum('Deaths1')"
   ]
  },
  {
   "cell_type": "code",
   "execution_count": 51,
   "metadata": {},
   "outputs": [],
   "source": [
    "USA_DeathsPDF = USA_DeathsPDF.reset_index()"
   ]
  },
  {
   "cell_type": "code",
   "execution_count": 52,
   "metadata": {},
   "outputs": [
    {
     "data": {
      "application/vnd.plotly.v1+json": {
       "config": {
        "plotlyServerURL": "https://plot.ly"
       },
       "data": [
        {
         "alignmentgroup": "True",
         "hovertemplate": "Year=%{x}<br>Deaths1=%{y}<extra></extra>",
         "legendgroup": "",
         "marker": {
          "color": "#c3892b",
          "pattern": {
           "shape": ""
          }
         },
         "name": "",
         "offsetgroup": "",
         "orientation": "v",
         "showlegend": false,
         "textposition": "auto",
         "type": "bar",
         "x": [
          1950,
          1951,
          1952,
          1953,
          1954,
          1955,
          1956,
          1957,
          1958,
          1959,
          1960,
          1961,
          1962,
          1963,
          1964,
          1965,
          1966,
          1967,
          1968,
          1969,
          1970,
          1971,
          1972,
          1973,
          1974,
          1975,
          1976,
          1977,
          1978,
          1979,
          1980,
          1981,
          1982,
          1983,
          1984,
          1985,
          1986,
          1987,
          1988,
          1989,
          1990,
          1991,
          1992,
          1993,
          1994,
          1995,
          1996,
          1997,
          1998,
          1999,
          2000,
          2001,
          2002,
          2003,
          2004,
          2005,
          2006,
          2007,
          2008,
          2009,
          2010,
          2011,
          2012,
          2013,
          2014,
          2015,
          2016,
          2017,
          2018,
          2019,
          2020
         ],
         "xaxis": "x",
         "y": [
          2904908,
          2964198,
          2993676,
          3035082,
          2962182,
          3112469,
          3215610,
          3355874,
          3416488,
          3439439,
          3594792,
          3579578,
          3707370,
          3826999,
          3804921,
          3872449,
          3948341,
          3931946,
          4125335,
          4104225,
          3963193,
          3975616,
          4181782,
          4206963,
          4067784,
          4032636,
          4061658,
          4038974,
          3868693,
          5928121,
          6167560,
          6134655,
          6132992,
          6279844,
          6344573,
          6493522,
          6555846,
          6614053,
          6753004,
          6697777,
          6688950,
          6759764,
          6784230,
          7077455,
          7111277,
          7218922,
          7227766,
          7230582,
          7303156,
          4782798,
          4806702,
          4832850,
          4886774,
          4896576,
          4795230,
          4896034,
          4852598,
          4847790,
          4943968,
          4875888,
          4938576,
          5030916,
          5086558,
          5193986,
          5252836,
          5425260,
          5488496,
          5627006,
          5678410,
          5709676,
          6767458
         ],
         "yaxis": "y"
        }
       ],
       "layout": {
        "barmode": "relative",
        "height": 400,
        "legend": {
         "tracegroupgap": 0
        },
        "template": {
         "data": {
          "bar": [
           {
            "error_x": {
             "color": "#2a3f5f"
            },
            "error_y": {
             "color": "#2a3f5f"
            },
            "marker": {
             "line": {
              "color": "#E5ECF6",
              "width": 0.5
             },
             "pattern": {
              "fillmode": "overlay",
              "size": 10,
              "solidity": 0.2
             }
            },
            "type": "bar"
           }
          ],
          "barpolar": [
           {
            "marker": {
             "line": {
              "color": "#E5ECF6",
              "width": 0.5
             },
             "pattern": {
              "fillmode": "overlay",
              "size": 10,
              "solidity": 0.2
             }
            },
            "type": "barpolar"
           }
          ],
          "carpet": [
           {
            "aaxis": {
             "endlinecolor": "#2a3f5f",
             "gridcolor": "white",
             "linecolor": "white",
             "minorgridcolor": "white",
             "startlinecolor": "#2a3f5f"
            },
            "baxis": {
             "endlinecolor": "#2a3f5f",
             "gridcolor": "white",
             "linecolor": "white",
             "minorgridcolor": "white",
             "startlinecolor": "#2a3f5f"
            },
            "type": "carpet"
           }
          ],
          "choropleth": [
           {
            "colorbar": {
             "outlinewidth": 0,
             "ticks": ""
            },
            "type": "choropleth"
           }
          ],
          "contour": [
           {
            "colorbar": {
             "outlinewidth": 0,
             "ticks": ""
            },
            "colorscale": [
             [
              0,
              "#0d0887"
             ],
             [
              0.1111111111111111,
              "#46039f"
             ],
             [
              0.2222222222222222,
              "#7201a8"
             ],
             [
              0.3333333333333333,
              "#9c179e"
             ],
             [
              0.4444444444444444,
              "#bd3786"
             ],
             [
              0.5555555555555556,
              "#d8576b"
             ],
             [
              0.6666666666666666,
              "#ed7953"
             ],
             [
              0.7777777777777778,
              "#fb9f3a"
             ],
             [
              0.8888888888888888,
              "#fdca26"
             ],
             [
              1,
              "#f0f921"
             ]
            ],
            "type": "contour"
           }
          ],
          "contourcarpet": [
           {
            "colorbar": {
             "outlinewidth": 0,
             "ticks": ""
            },
            "type": "contourcarpet"
           }
          ],
          "heatmap": [
           {
            "colorbar": {
             "outlinewidth": 0,
             "ticks": ""
            },
            "colorscale": [
             [
              0,
              "#0d0887"
             ],
             [
              0.1111111111111111,
              "#46039f"
             ],
             [
              0.2222222222222222,
              "#7201a8"
             ],
             [
              0.3333333333333333,
              "#9c179e"
             ],
             [
              0.4444444444444444,
              "#bd3786"
             ],
             [
              0.5555555555555556,
              "#d8576b"
             ],
             [
              0.6666666666666666,
              "#ed7953"
             ],
             [
              0.7777777777777778,
              "#fb9f3a"
             ],
             [
              0.8888888888888888,
              "#fdca26"
             ],
             [
              1,
              "#f0f921"
             ]
            ],
            "type": "heatmap"
           }
          ],
          "heatmapgl": [
           {
            "colorbar": {
             "outlinewidth": 0,
             "ticks": ""
            },
            "colorscale": [
             [
              0,
              "#0d0887"
             ],
             [
              0.1111111111111111,
              "#46039f"
             ],
             [
              0.2222222222222222,
              "#7201a8"
             ],
             [
              0.3333333333333333,
              "#9c179e"
             ],
             [
              0.4444444444444444,
              "#bd3786"
             ],
             [
              0.5555555555555556,
              "#d8576b"
             ],
             [
              0.6666666666666666,
              "#ed7953"
             ],
             [
              0.7777777777777778,
              "#fb9f3a"
             ],
             [
              0.8888888888888888,
              "#fdca26"
             ],
             [
              1,
              "#f0f921"
             ]
            ],
            "type": "heatmapgl"
           }
          ],
          "histogram": [
           {
            "marker": {
             "pattern": {
              "fillmode": "overlay",
              "size": 10,
              "solidity": 0.2
             }
            },
            "type": "histogram"
           }
          ],
          "histogram2d": [
           {
            "colorbar": {
             "outlinewidth": 0,
             "ticks": ""
            },
            "colorscale": [
             [
              0,
              "#0d0887"
             ],
             [
              0.1111111111111111,
              "#46039f"
             ],
             [
              0.2222222222222222,
              "#7201a8"
             ],
             [
              0.3333333333333333,
              "#9c179e"
             ],
             [
              0.4444444444444444,
              "#bd3786"
             ],
             [
              0.5555555555555556,
              "#d8576b"
             ],
             [
              0.6666666666666666,
              "#ed7953"
             ],
             [
              0.7777777777777778,
              "#fb9f3a"
             ],
             [
              0.8888888888888888,
              "#fdca26"
             ],
             [
              1,
              "#f0f921"
             ]
            ],
            "type": "histogram2d"
           }
          ],
          "histogram2dcontour": [
           {
            "colorbar": {
             "outlinewidth": 0,
             "ticks": ""
            },
            "colorscale": [
             [
              0,
              "#0d0887"
             ],
             [
              0.1111111111111111,
              "#46039f"
             ],
             [
              0.2222222222222222,
              "#7201a8"
             ],
             [
              0.3333333333333333,
              "#9c179e"
             ],
             [
              0.4444444444444444,
              "#bd3786"
             ],
             [
              0.5555555555555556,
              "#d8576b"
             ],
             [
              0.6666666666666666,
              "#ed7953"
             ],
             [
              0.7777777777777778,
              "#fb9f3a"
             ],
             [
              0.8888888888888888,
              "#fdca26"
             ],
             [
              1,
              "#f0f921"
             ]
            ],
            "type": "histogram2dcontour"
           }
          ],
          "mesh3d": [
           {
            "colorbar": {
             "outlinewidth": 0,
             "ticks": ""
            },
            "type": "mesh3d"
           }
          ],
          "parcoords": [
           {
            "line": {
             "colorbar": {
              "outlinewidth": 0,
              "ticks": ""
             }
            },
            "type": "parcoords"
           }
          ],
          "pie": [
           {
            "automargin": true,
            "type": "pie"
           }
          ],
          "scatter": [
           {
            "fillpattern": {
             "fillmode": "overlay",
             "size": 10,
             "solidity": 0.2
            },
            "type": "scatter"
           }
          ],
          "scatter3d": [
           {
            "line": {
             "colorbar": {
              "outlinewidth": 0,
              "ticks": ""
             }
            },
            "marker": {
             "colorbar": {
              "outlinewidth": 0,
              "ticks": ""
             }
            },
            "type": "scatter3d"
           }
          ],
          "scattercarpet": [
           {
            "marker": {
             "colorbar": {
              "outlinewidth": 0,
              "ticks": ""
             }
            },
            "type": "scattercarpet"
           }
          ],
          "scattergeo": [
           {
            "marker": {
             "colorbar": {
              "outlinewidth": 0,
              "ticks": ""
             }
            },
            "type": "scattergeo"
           }
          ],
          "scattergl": [
           {
            "marker": {
             "colorbar": {
              "outlinewidth": 0,
              "ticks": ""
             }
            },
            "type": "scattergl"
           }
          ],
          "scattermapbox": [
           {
            "marker": {
             "colorbar": {
              "outlinewidth": 0,
              "ticks": ""
             }
            },
            "type": "scattermapbox"
           }
          ],
          "scatterpolar": [
           {
            "marker": {
             "colorbar": {
              "outlinewidth": 0,
              "ticks": ""
             }
            },
            "type": "scatterpolar"
           }
          ],
          "scatterpolargl": [
           {
            "marker": {
             "colorbar": {
              "outlinewidth": 0,
              "ticks": ""
             }
            },
            "type": "scatterpolargl"
           }
          ],
          "scatterternary": [
           {
            "marker": {
             "colorbar": {
              "outlinewidth": 0,
              "ticks": ""
             }
            },
            "type": "scatterternary"
           }
          ],
          "surface": [
           {
            "colorbar": {
             "outlinewidth": 0,
             "ticks": ""
            },
            "colorscale": [
             [
              0,
              "#0d0887"
             ],
             [
              0.1111111111111111,
              "#46039f"
             ],
             [
              0.2222222222222222,
              "#7201a8"
             ],
             [
              0.3333333333333333,
              "#9c179e"
             ],
             [
              0.4444444444444444,
              "#bd3786"
             ],
             [
              0.5555555555555556,
              "#d8576b"
             ],
             [
              0.6666666666666666,
              "#ed7953"
             ],
             [
              0.7777777777777778,
              "#fb9f3a"
             ],
             [
              0.8888888888888888,
              "#fdca26"
             ],
             [
              1,
              "#f0f921"
             ]
            ],
            "type": "surface"
           }
          ],
          "table": [
           {
            "cells": {
             "fill": {
              "color": "#EBF0F8"
             },
             "line": {
              "color": "white"
             }
            },
            "header": {
             "fill": {
              "color": "#C8D4E3"
             },
             "line": {
              "color": "white"
             }
            },
            "type": "table"
           }
          ]
         },
         "layout": {
          "annotationdefaults": {
           "arrowcolor": "#2a3f5f",
           "arrowhead": 0,
           "arrowwidth": 1
          },
          "autotypenumbers": "strict",
          "coloraxis": {
           "colorbar": {
            "outlinewidth": 0,
            "ticks": ""
           }
          },
          "colorscale": {
           "diverging": [
            [
             0,
             "#8e0152"
            ],
            [
             0.1,
             "#c51b7d"
            ],
            [
             0.2,
             "#de77ae"
            ],
            [
             0.3,
             "#f1b6da"
            ],
            [
             0.4,
             "#fde0ef"
            ],
            [
             0.5,
             "#f7f7f7"
            ],
            [
             0.6,
             "#e6f5d0"
            ],
            [
             0.7,
             "#b8e186"
            ],
            [
             0.8,
             "#7fbc41"
            ],
            [
             0.9,
             "#4d9221"
            ],
            [
             1,
             "#276419"
            ]
           ],
           "sequential": [
            [
             0,
             "#0d0887"
            ],
            [
             0.1111111111111111,
             "#46039f"
            ],
            [
             0.2222222222222222,
             "#7201a8"
            ],
            [
             0.3333333333333333,
             "#9c179e"
            ],
            [
             0.4444444444444444,
             "#bd3786"
            ],
            [
             0.5555555555555556,
             "#d8576b"
            ],
            [
             0.6666666666666666,
             "#ed7953"
            ],
            [
             0.7777777777777778,
             "#fb9f3a"
            ],
            [
             0.8888888888888888,
             "#fdca26"
            ],
            [
             1,
             "#f0f921"
            ]
           ],
           "sequentialminus": [
            [
             0,
             "#0d0887"
            ],
            [
             0.1111111111111111,
             "#46039f"
            ],
            [
             0.2222222222222222,
             "#7201a8"
            ],
            [
             0.3333333333333333,
             "#9c179e"
            ],
            [
             0.4444444444444444,
             "#bd3786"
            ],
            [
             0.5555555555555556,
             "#d8576b"
            ],
            [
             0.6666666666666666,
             "#ed7953"
            ],
            [
             0.7777777777777778,
             "#fb9f3a"
            ],
            [
             0.8888888888888888,
             "#fdca26"
            ],
            [
             1,
             "#f0f921"
            ]
           ]
          },
          "colorway": [
           "#636efa",
           "#EF553B",
           "#00cc96",
           "#ab63fa",
           "#FFA15A",
           "#19d3f3",
           "#FF6692",
           "#B6E880",
           "#FF97FF",
           "#FECB52"
          ],
          "font": {
           "color": "#2a3f5f"
          },
          "geo": {
           "bgcolor": "white",
           "lakecolor": "white",
           "landcolor": "#E5ECF6",
           "showlakes": true,
           "showland": true,
           "subunitcolor": "white"
          },
          "hoverlabel": {
           "align": "left"
          },
          "hovermode": "closest",
          "mapbox": {
           "style": "light"
          },
          "paper_bgcolor": "white",
          "plot_bgcolor": "#E5ECF6",
          "polar": {
           "angularaxis": {
            "gridcolor": "white",
            "linecolor": "white",
            "ticks": ""
           },
           "bgcolor": "#E5ECF6",
           "radialaxis": {
            "gridcolor": "white",
            "linecolor": "white",
            "ticks": ""
           }
          },
          "scene": {
           "xaxis": {
            "backgroundcolor": "#E5ECF6",
            "gridcolor": "white",
            "gridwidth": 2,
            "linecolor": "white",
            "showbackground": true,
            "ticks": "",
            "zerolinecolor": "white"
           },
           "yaxis": {
            "backgroundcolor": "#E5ECF6",
            "gridcolor": "white",
            "gridwidth": 2,
            "linecolor": "white",
            "showbackground": true,
            "ticks": "",
            "zerolinecolor": "white"
           },
           "zaxis": {
            "backgroundcolor": "#E5ECF6",
            "gridcolor": "white",
            "gridwidth": 2,
            "linecolor": "white",
            "showbackground": true,
            "ticks": "",
            "zerolinecolor": "white"
           }
          },
          "shapedefaults": {
           "line": {
            "color": "#2a3f5f"
           }
          },
          "ternary": {
           "aaxis": {
            "gridcolor": "white",
            "linecolor": "white",
            "ticks": ""
           },
           "baxis": {
            "gridcolor": "white",
            "linecolor": "white",
            "ticks": ""
           },
           "bgcolor": "#E5ECF6",
           "caxis": {
            "gridcolor": "white",
            "linecolor": "white",
            "ticks": ""
           }
          },
          "title": {
           "x": 0.05
          },
          "xaxis": {
           "automargin": true,
           "gridcolor": "white",
           "linecolor": "white",
           "ticks": "",
           "title": {
            "standoff": 15
           },
           "zerolinecolor": "white",
           "zerolinewidth": 2
          },
          "yaxis": {
           "automargin": true,
           "gridcolor": "white",
           "linecolor": "white",
           "ticks": "",
           "title": {
            "standoff": 15
           },
           "zerolinecolor": "white",
           "zerolinewidth": 2
          }
         }
        },
        "title": {
         "text": "Deaths in USA by Year"
        },
        "xaxis": {
         "anchor": "y",
         "domain": [
          0,
          1
         ],
         "title": {
          "text": "Year"
         }
        },
        "yaxis": {
         "anchor": "x",
         "domain": [
          0,
          1
         ],
         "title": {
          "text": "Deaths1"
         }
        }
       }
      }
     },
     "metadata": {},
     "output_type": "display_data"
    }
   ],
   "source": [
    "color_discrete_sequence = ['#c3892b'] * len(USA_DeathsPDF)\n",
    "fig3 = px.bar(USA_DeathsPDF, x = 'Year', y = 'Deaths1', hover_data = ['Year', 'Deaths1'], color_discrete_sequence = color_discrete_sequence,\n",
    "            title = 'Deaths in USA by Year', labels = {'pop':'population of Canada'}, height = 400)\n",
    "fig3.show()"
   ]
  },
  {
   "cell_type": "markdown",
   "metadata": {},
   "source": [
    "### Top 10 causes for people are dying in USA"
   ]
  },
  {
   "cell_type": "code",
   "execution_count": 53,
   "metadata": {},
   "outputs": [],
   "source": [
    "top10_causes = df_na_filled.filter(df_na_filled.Country == 'United States of America').select(['Cause', 'Deaths1'])"
   ]
  },
  {
   "cell_type": "code",
   "execution_count": 54,
   "metadata": {},
   "outputs": [],
   "source": [
    "top10_causes = top10_causes.toPandas()"
   ]
  },
  {
   "cell_type": "code",
   "execution_count": 55,
   "metadata": {},
   "outputs": [],
   "source": [
    "top10_causes = top10_causes.groupby(['Cause']).sum('Deaths1')\n",
    "top10_causes = top10_causes.reset_index()"
   ]
  },
  {
   "cell_type": "code",
   "execution_count": 56,
   "metadata": {},
   "outputs": [],
   "source": [
    "top10_causes = top10_causes.sort_values(by = 'Deaths1', ascending = False)"
   ]
  },
  {
   "cell_type": "code",
   "execution_count": 57,
   "metadata": {},
   "outputs": [
    {
     "data": {
      "text/html": [
       "<div>\n",
       "<style scoped>\n",
       "    .dataframe tbody tr th:only-of-type {\n",
       "        vertical-align: middle;\n",
       "    }\n",
       "\n",
       "    .dataframe tbody tr th {\n",
       "        vertical-align: top;\n",
       "    }\n",
       "\n",
       "    .dataframe thead th {\n",
       "        text-align: right;\n",
       "    }\n",
       "</style>\n",
       "<table border=\"1\" class=\"dataframe\">\n",
       "  <thead>\n",
       "    <tr style=\"text-align: right;\">\n",
       "      <th></th>\n",
       "      <th>index</th>\n",
       "      <th>Cause</th>\n",
       "      <th>Deaths1</th>\n",
       "    </tr>\n",
       "  </thead>\n",
       "  <tbody>\n",
       "    <tr>\n",
       "      <th>0</th>\n",
       "      <td>478</td>\n",
       "      <td>AAA</td>\n",
       "      <td>56808193</td>\n",
       "    </tr>\n",
       "    <tr>\n",
       "      <th>1</th>\n",
       "      <td>124</td>\n",
       "      <td>A000</td>\n",
       "      <td>50987160</td>\n",
       "    </tr>\n",
       "    <tr>\n",
       "      <th>2</th>\n",
       "      <td>479</td>\n",
       "      <td>B00</td>\n",
       "      <td>42868083</td>\n",
       "    </tr>\n",
       "    <tr>\n",
       "      <th>3</th>\n",
       "      <td>682</td>\n",
       "      <td>B27</td>\n",
       "      <td>10205663</td>\n",
       "    </tr>\n",
       "    <tr>\n",
       "      <th>4</th>\n",
       "      <td>205</td>\n",
       "      <td>A081</td>\n",
       "      <td>9582277</td>\n",
       "    </tr>\n",
       "    <tr>\n",
       "      <th>...</th>\n",
       "      <td>...</td>\n",
       "      <td>...</td>\n",
       "      <td>...</td>\n",
       "    </tr>\n",
       "    <tr>\n",
       "      <th>7945</th>\n",
       "      <td>4565</td>\n",
       "      <td>O755</td>\n",
       "      <td>1</td>\n",
       "    </tr>\n",
       "    <tr>\n",
       "      <th>7946</th>\n",
       "      <td>522</td>\n",
       "      <td>B041</td>\n",
       "      <td>0</td>\n",
       "    </tr>\n",
       "    <tr>\n",
       "      <th>7947</th>\n",
       "      <td>620</td>\n",
       "      <td>B185</td>\n",
       "      <td>0</td>\n",
       "    </tr>\n",
       "    <tr>\n",
       "      <th>7948</th>\n",
       "      <td>108</td>\n",
       "      <td>432</td>\n",
       "      <td>0</td>\n",
       "    </tr>\n",
       "    <tr>\n",
       "      <th>7949</th>\n",
       "      <td>757</td>\n",
       "      <td>B363</td>\n",
       "      <td>0</td>\n",
       "    </tr>\n",
       "  </tbody>\n",
       "</table>\n",
       "<p>7950 rows × 3 columns</p>\n",
       "</div>"
      ],
      "text/plain": [
       "      index Cause   Deaths1\n",
       "0       478   AAA  56808193\n",
       "1       124  A000  50987160\n",
       "2       479   B00  42868083\n",
       "3       682   B27  10205663\n",
       "4       205  A081   9582277\n",
       "...     ...   ...       ...\n",
       "7945   4565  O755         1\n",
       "7946    522  B041         0\n",
       "7947    620  B185         0\n",
       "7948    108   432         0\n",
       "7949    757  B363         0\n",
       "\n",
       "[7950 rows x 3 columns]"
      ]
     },
     "execution_count": 57,
     "metadata": {},
     "output_type": "execute_result"
    }
   ],
   "source": [
    "top10_causes = top10_causes.reset_index()\n",
    "top10_causes"
   ]
  },
  {
   "cell_type": "code",
   "execution_count": 58,
   "metadata": {},
   "outputs": [],
   "source": [
    "top10_causes = top10_causes.iloc[3:]"
   ]
  },
  {
   "cell_type": "code",
   "execution_count": 59,
   "metadata": {},
   "outputs": [],
   "source": [
    "top10_causes = top10_causes.head(20)"
   ]
  },
  {
   "cell_type": "code",
   "execution_count": 60,
   "metadata": {},
   "outputs": [
    {
     "data": {
      "application/vnd.plotly.v1+json": {
       "config": {
        "plotlyServerURL": "https://plot.ly"
       },
       "data": [
        {
         "domain": {
          "x": [
           0,
           1
          ],
          "y": [
           0,
           1
          ]
         },
         "hovertemplate": "Cause=%{label}<br>Deaths1=%{value}<extra></extra>",
         "labels": [
          "B27",
          "A081",
          "A083",
          "B279",
          "B270",
          "B28",
          "I251",
          "B32",
          "A070",
          "C349",
          "B29",
          "B289",
          "A085",
          "I219",
          "420+",
          "B10",
          "B101",
          "B09",
          "J449",
          "G309"
         ],
         "legendgroup": "",
         "name": "",
         "showlegend": true,
         "type": "pie",
         "values": [
          10205663,
          9582277,
          8529117,
          5178092,
          5028078,
          4062001,
          4057643,
          3571210,
          3413519,
          3350118,
          3090372,
          3016853,
          3011276,
          2975428,
          2970089,
          2743797,
          2642932,
          2385834,
          2313480,
          1810658
         ]
        }
       ],
       "layout": {
        "legend": {
         "tracegroupgap": 0
        },
        "template": {
         "data": {
          "bar": [
           {
            "error_x": {
             "color": "#2a3f5f"
            },
            "error_y": {
             "color": "#2a3f5f"
            },
            "marker": {
             "line": {
              "color": "#E5ECF6",
              "width": 0.5
             },
             "pattern": {
              "fillmode": "overlay",
              "size": 10,
              "solidity": 0.2
             }
            },
            "type": "bar"
           }
          ],
          "barpolar": [
           {
            "marker": {
             "line": {
              "color": "#E5ECF6",
              "width": 0.5
             },
             "pattern": {
              "fillmode": "overlay",
              "size": 10,
              "solidity": 0.2
             }
            },
            "type": "barpolar"
           }
          ],
          "carpet": [
           {
            "aaxis": {
             "endlinecolor": "#2a3f5f",
             "gridcolor": "white",
             "linecolor": "white",
             "minorgridcolor": "white",
             "startlinecolor": "#2a3f5f"
            },
            "baxis": {
             "endlinecolor": "#2a3f5f",
             "gridcolor": "white",
             "linecolor": "white",
             "minorgridcolor": "white",
             "startlinecolor": "#2a3f5f"
            },
            "type": "carpet"
           }
          ],
          "choropleth": [
           {
            "colorbar": {
             "outlinewidth": 0,
             "ticks": ""
            },
            "type": "choropleth"
           }
          ],
          "contour": [
           {
            "colorbar": {
             "outlinewidth": 0,
             "ticks": ""
            },
            "colorscale": [
             [
              0,
              "#0d0887"
             ],
             [
              0.1111111111111111,
              "#46039f"
             ],
             [
              0.2222222222222222,
              "#7201a8"
             ],
             [
              0.3333333333333333,
              "#9c179e"
             ],
             [
              0.4444444444444444,
              "#bd3786"
             ],
             [
              0.5555555555555556,
              "#d8576b"
             ],
             [
              0.6666666666666666,
              "#ed7953"
             ],
             [
              0.7777777777777778,
              "#fb9f3a"
             ],
             [
              0.8888888888888888,
              "#fdca26"
             ],
             [
              1,
              "#f0f921"
             ]
            ],
            "type": "contour"
           }
          ],
          "contourcarpet": [
           {
            "colorbar": {
             "outlinewidth": 0,
             "ticks": ""
            },
            "type": "contourcarpet"
           }
          ],
          "heatmap": [
           {
            "colorbar": {
             "outlinewidth": 0,
             "ticks": ""
            },
            "colorscale": [
             [
              0,
              "#0d0887"
             ],
             [
              0.1111111111111111,
              "#46039f"
             ],
             [
              0.2222222222222222,
              "#7201a8"
             ],
             [
              0.3333333333333333,
              "#9c179e"
             ],
             [
              0.4444444444444444,
              "#bd3786"
             ],
             [
              0.5555555555555556,
              "#d8576b"
             ],
             [
              0.6666666666666666,
              "#ed7953"
             ],
             [
              0.7777777777777778,
              "#fb9f3a"
             ],
             [
              0.8888888888888888,
              "#fdca26"
             ],
             [
              1,
              "#f0f921"
             ]
            ],
            "type": "heatmap"
           }
          ],
          "heatmapgl": [
           {
            "colorbar": {
             "outlinewidth": 0,
             "ticks": ""
            },
            "colorscale": [
             [
              0,
              "#0d0887"
             ],
             [
              0.1111111111111111,
              "#46039f"
             ],
             [
              0.2222222222222222,
              "#7201a8"
             ],
             [
              0.3333333333333333,
              "#9c179e"
             ],
             [
              0.4444444444444444,
              "#bd3786"
             ],
             [
              0.5555555555555556,
              "#d8576b"
             ],
             [
              0.6666666666666666,
              "#ed7953"
             ],
             [
              0.7777777777777778,
              "#fb9f3a"
             ],
             [
              0.8888888888888888,
              "#fdca26"
             ],
             [
              1,
              "#f0f921"
             ]
            ],
            "type": "heatmapgl"
           }
          ],
          "histogram": [
           {
            "marker": {
             "pattern": {
              "fillmode": "overlay",
              "size": 10,
              "solidity": 0.2
             }
            },
            "type": "histogram"
           }
          ],
          "histogram2d": [
           {
            "colorbar": {
             "outlinewidth": 0,
             "ticks": ""
            },
            "colorscale": [
             [
              0,
              "#0d0887"
             ],
             [
              0.1111111111111111,
              "#46039f"
             ],
             [
              0.2222222222222222,
              "#7201a8"
             ],
             [
              0.3333333333333333,
              "#9c179e"
             ],
             [
              0.4444444444444444,
              "#bd3786"
             ],
             [
              0.5555555555555556,
              "#d8576b"
             ],
             [
              0.6666666666666666,
              "#ed7953"
             ],
             [
              0.7777777777777778,
              "#fb9f3a"
             ],
             [
              0.8888888888888888,
              "#fdca26"
             ],
             [
              1,
              "#f0f921"
             ]
            ],
            "type": "histogram2d"
           }
          ],
          "histogram2dcontour": [
           {
            "colorbar": {
             "outlinewidth": 0,
             "ticks": ""
            },
            "colorscale": [
             [
              0,
              "#0d0887"
             ],
             [
              0.1111111111111111,
              "#46039f"
             ],
             [
              0.2222222222222222,
              "#7201a8"
             ],
             [
              0.3333333333333333,
              "#9c179e"
             ],
             [
              0.4444444444444444,
              "#bd3786"
             ],
             [
              0.5555555555555556,
              "#d8576b"
             ],
             [
              0.6666666666666666,
              "#ed7953"
             ],
             [
              0.7777777777777778,
              "#fb9f3a"
             ],
             [
              0.8888888888888888,
              "#fdca26"
             ],
             [
              1,
              "#f0f921"
             ]
            ],
            "type": "histogram2dcontour"
           }
          ],
          "mesh3d": [
           {
            "colorbar": {
             "outlinewidth": 0,
             "ticks": ""
            },
            "type": "mesh3d"
           }
          ],
          "parcoords": [
           {
            "line": {
             "colorbar": {
              "outlinewidth": 0,
              "ticks": ""
             }
            },
            "type": "parcoords"
           }
          ],
          "pie": [
           {
            "automargin": true,
            "type": "pie"
           }
          ],
          "scatter": [
           {
            "fillpattern": {
             "fillmode": "overlay",
             "size": 10,
             "solidity": 0.2
            },
            "type": "scatter"
           }
          ],
          "scatter3d": [
           {
            "line": {
             "colorbar": {
              "outlinewidth": 0,
              "ticks": ""
             }
            },
            "marker": {
             "colorbar": {
              "outlinewidth": 0,
              "ticks": ""
             }
            },
            "type": "scatter3d"
           }
          ],
          "scattercarpet": [
           {
            "marker": {
             "colorbar": {
              "outlinewidth": 0,
              "ticks": ""
             }
            },
            "type": "scattercarpet"
           }
          ],
          "scattergeo": [
           {
            "marker": {
             "colorbar": {
              "outlinewidth": 0,
              "ticks": ""
             }
            },
            "type": "scattergeo"
           }
          ],
          "scattergl": [
           {
            "marker": {
             "colorbar": {
              "outlinewidth": 0,
              "ticks": ""
             }
            },
            "type": "scattergl"
           }
          ],
          "scattermapbox": [
           {
            "marker": {
             "colorbar": {
              "outlinewidth": 0,
              "ticks": ""
             }
            },
            "type": "scattermapbox"
           }
          ],
          "scatterpolar": [
           {
            "marker": {
             "colorbar": {
              "outlinewidth": 0,
              "ticks": ""
             }
            },
            "type": "scatterpolar"
           }
          ],
          "scatterpolargl": [
           {
            "marker": {
             "colorbar": {
              "outlinewidth": 0,
              "ticks": ""
             }
            },
            "type": "scatterpolargl"
           }
          ],
          "scatterternary": [
           {
            "marker": {
             "colorbar": {
              "outlinewidth": 0,
              "ticks": ""
             }
            },
            "type": "scatterternary"
           }
          ],
          "surface": [
           {
            "colorbar": {
             "outlinewidth": 0,
             "ticks": ""
            },
            "colorscale": [
             [
              0,
              "#0d0887"
             ],
             [
              0.1111111111111111,
              "#46039f"
             ],
             [
              0.2222222222222222,
              "#7201a8"
             ],
             [
              0.3333333333333333,
              "#9c179e"
             ],
             [
              0.4444444444444444,
              "#bd3786"
             ],
             [
              0.5555555555555556,
              "#d8576b"
             ],
             [
              0.6666666666666666,
              "#ed7953"
             ],
             [
              0.7777777777777778,
              "#fb9f3a"
             ],
             [
              0.8888888888888888,
              "#fdca26"
             ],
             [
              1,
              "#f0f921"
             ]
            ],
            "type": "surface"
           }
          ],
          "table": [
           {
            "cells": {
             "fill": {
              "color": "#EBF0F8"
             },
             "line": {
              "color": "white"
             }
            },
            "header": {
             "fill": {
              "color": "#C8D4E3"
             },
             "line": {
              "color": "white"
             }
            },
            "type": "table"
           }
          ]
         },
         "layout": {
          "annotationdefaults": {
           "arrowcolor": "#2a3f5f",
           "arrowhead": 0,
           "arrowwidth": 1
          },
          "autotypenumbers": "strict",
          "coloraxis": {
           "colorbar": {
            "outlinewidth": 0,
            "ticks": ""
           }
          },
          "colorscale": {
           "diverging": [
            [
             0,
             "#8e0152"
            ],
            [
             0.1,
             "#c51b7d"
            ],
            [
             0.2,
             "#de77ae"
            ],
            [
             0.3,
             "#f1b6da"
            ],
            [
             0.4,
             "#fde0ef"
            ],
            [
             0.5,
             "#f7f7f7"
            ],
            [
             0.6,
             "#e6f5d0"
            ],
            [
             0.7,
             "#b8e186"
            ],
            [
             0.8,
             "#7fbc41"
            ],
            [
             0.9,
             "#4d9221"
            ],
            [
             1,
             "#276419"
            ]
           ],
           "sequential": [
            [
             0,
             "#0d0887"
            ],
            [
             0.1111111111111111,
             "#46039f"
            ],
            [
             0.2222222222222222,
             "#7201a8"
            ],
            [
             0.3333333333333333,
             "#9c179e"
            ],
            [
             0.4444444444444444,
             "#bd3786"
            ],
            [
             0.5555555555555556,
             "#d8576b"
            ],
            [
             0.6666666666666666,
             "#ed7953"
            ],
            [
             0.7777777777777778,
             "#fb9f3a"
            ],
            [
             0.8888888888888888,
             "#fdca26"
            ],
            [
             1,
             "#f0f921"
            ]
           ],
           "sequentialminus": [
            [
             0,
             "#0d0887"
            ],
            [
             0.1111111111111111,
             "#46039f"
            ],
            [
             0.2222222222222222,
             "#7201a8"
            ],
            [
             0.3333333333333333,
             "#9c179e"
            ],
            [
             0.4444444444444444,
             "#bd3786"
            ],
            [
             0.5555555555555556,
             "#d8576b"
            ],
            [
             0.6666666666666666,
             "#ed7953"
            ],
            [
             0.7777777777777778,
             "#fb9f3a"
            ],
            [
             0.8888888888888888,
             "#fdca26"
            ],
            [
             1,
             "#f0f921"
            ]
           ]
          },
          "colorway": [
           "#636efa",
           "#EF553B",
           "#00cc96",
           "#ab63fa",
           "#FFA15A",
           "#19d3f3",
           "#FF6692",
           "#B6E880",
           "#FF97FF",
           "#FECB52"
          ],
          "font": {
           "color": "#2a3f5f"
          },
          "geo": {
           "bgcolor": "white",
           "lakecolor": "white",
           "landcolor": "#E5ECF6",
           "showlakes": true,
           "showland": true,
           "subunitcolor": "white"
          },
          "hoverlabel": {
           "align": "left"
          },
          "hovermode": "closest",
          "mapbox": {
           "style": "light"
          },
          "paper_bgcolor": "white",
          "plot_bgcolor": "#E5ECF6",
          "polar": {
           "angularaxis": {
            "gridcolor": "white",
            "linecolor": "white",
            "ticks": ""
           },
           "bgcolor": "#E5ECF6",
           "radialaxis": {
            "gridcolor": "white",
            "linecolor": "white",
            "ticks": ""
           }
          },
          "scene": {
           "xaxis": {
            "backgroundcolor": "#E5ECF6",
            "gridcolor": "white",
            "gridwidth": 2,
            "linecolor": "white",
            "showbackground": true,
            "ticks": "",
            "zerolinecolor": "white"
           },
           "yaxis": {
            "backgroundcolor": "#E5ECF6",
            "gridcolor": "white",
            "gridwidth": 2,
            "linecolor": "white",
            "showbackground": true,
            "ticks": "",
            "zerolinecolor": "white"
           },
           "zaxis": {
            "backgroundcolor": "#E5ECF6",
            "gridcolor": "white",
            "gridwidth": 2,
            "linecolor": "white",
            "showbackground": true,
            "ticks": "",
            "zerolinecolor": "white"
           }
          },
          "shapedefaults": {
           "line": {
            "color": "#2a3f5f"
           }
          },
          "ternary": {
           "aaxis": {
            "gridcolor": "white",
            "linecolor": "white",
            "ticks": ""
           },
           "baxis": {
            "gridcolor": "white",
            "linecolor": "white",
            "ticks": ""
           },
           "bgcolor": "#E5ECF6",
           "caxis": {
            "gridcolor": "white",
            "linecolor": "white",
            "ticks": ""
           }
          },
          "title": {
           "x": 0.05
          },
          "xaxis": {
           "automargin": true,
           "gridcolor": "white",
           "linecolor": "white",
           "ticks": "",
           "title": {
            "standoff": 15
           },
           "zerolinecolor": "white",
           "zerolinewidth": 2
          },
          "yaxis": {
           "automargin": true,
           "gridcolor": "white",
           "linecolor": "white",
           "ticks": "",
           "title": {
            "standoff": 15
           },
           "zerolinecolor": "white",
           "zerolinewidth": 2
          }
         }
        },
        "title": {
         "text": "Death by Cause"
        }
       }
      }
     },
     "metadata": {},
     "output_type": "display_data"
    }
   ],
   "source": [
    "fig = px.pie(top10_causes, values = 'Deaths1', names = 'Cause', title = 'Death by Cause')\n",
    "fig.show()"
   ]
  },
  {
   "cell_type": "code",
   "execution_count": 61,
   "metadata": {},
   "outputs": [],
   "source": [
    "# To stop the spark session\n",
    "spark.stop()"
   ]
  }
 ],
 "metadata": {
  "kernelspec": {
   "display_name": "Python 3",
   "language": "python",
   "name": "python3"
  },
  "language_info": {
   "codemirror_mode": {
    "name": "ipython",
    "version": 3
   },
   "file_extension": ".py",
   "mimetype": "text/x-python",
   "name": "python",
   "nbconvert_exporter": "python",
   "pygments_lexer": "ipython3",
   "version": "3.10.8"
  }
 },
 "nbformat": 4,
 "nbformat_minor": 2
}
